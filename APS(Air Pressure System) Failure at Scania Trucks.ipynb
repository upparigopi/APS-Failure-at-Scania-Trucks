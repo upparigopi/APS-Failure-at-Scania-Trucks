{
 "cells": [
  {
   "cell_type": "markdown",
   "metadata": {},
   "source": [
    "# APS(Air Pressure System) Failure at Scania Trucks:"
   ]
  },
  {
   "cell_type": "markdown",
   "metadata": {},
   "source": [
    "**Problem Statement**: The dataset is positive class consists of component failures for a specific component of the APS system. The negative class consists of trucks with failures for components not related to the APS."
   ]
  },
  {
   "cell_type": "markdown",
   "metadata": {},
   "source": [
    "**Source links:** https://archive.ics.uci.edu/ml/datasets/APS+Failure+at+Scania+Trucks"
   ]
  },
  {
   "cell_type": "markdown",
   "metadata": {},
   "source": [
    "**Real world/Business Objectives and Constraints:**\n",
    "- custom metric: [(False_negative * 500) + (False_positive * 10)]\n",
    "- Note: This custom value should be as minimum as possible.\n",
    "\n",
    "**Terms:**\n",
    "\n",
    "- True Positives : Correctly classified component failures of a truck related to APS system.\n",
    "- False Positives: Incorrectly classified component failures of a truck related to APS system.\n",
    "- True Negatives : Correctly classified component failures of a truck not related to APS system.\n",
    "- False Negatives: Incorrectly classified component failures of a truck not related to APS system.\n",
    "\n",
    "- Precision      : (True Positives) / (True Positives + False Positives)\n",
    "- Recall         : (True positives) / (True Positives + False Negatives)\n",
    "- Precision      : says that how precise is our model detecting component failures of a truck related to APS system.\n",
    "- Recall         : Amount of component failures of a truck related to the APS system our model is able to detect."
   ]
  },
  {
   "cell_type": "markdown",
   "metadata": {},
   "source": [
    "**Performance metric:**\n",
    "\n",
    "- custom metric\n",
    "- confusion metric"
   ]
  },
  {
   "cell_type": "markdown",
   "metadata": {},
   "source": [
    "APS(Air Pressure System) failure at scania trucks.\n",
    "\n",
    "- It consisting of 60k datapoints and 171 features including the response label.\n",
    "- The given dataset is an imbalanced data, class distribution should be 98.333% of positive\n",
    "  class and 1.667% of negative class.\n",
    "- This dataset consisting of nan_values for that impute using the mean, median and mode.\n",
    "  mean:it can tells the central tendency or average of given list of numbers\n",
    "  median: middle value from the given list of numbers, befire that values should be sorted\n",
    "          it cann't be impacted by the outliers.\n",
    "  mode : most often or frequent occured numbers in the list of numbers, if no element \n",
    "         occered then there is no mode.\n",
    "- Splitting the data into 80-20, from again 80 splitted 80-20.\n",
    "- label distribution.\n",
    "- Standardizinge the data for train, cv and test.\n",
    "\n",
    "===> Model Building:\n",
    "- Logstic regresssion ----> custom_value=11370\n",
    "- Linear svm          ----> custom_value=11510\n",
    "- Random Forest       ----> custom_value=30610\n",
    "- xgboost             ----> custom_value=23130\n",
    "- Stacking classier   ----> custom_value=23130\n",
    "\n",
    "===> Balancing the data\n",
    "Undersampling, Oversampling ----> For this applied Logistic regression."
   ]
  },
  {
   "cell_type": "code",
   "execution_count": 3,
   "metadata": {},
   "outputs": [],
   "source": [
    "#To ignore warnings \n",
    "import warnings\n",
    "warnings.filterwarnings('ignore')"
   ]
  },
  {
   "cell_type": "code",
   "execution_count": 4,
   "metadata": {},
   "outputs": [],
   "source": [
    "#Importing the libraries\n",
    "import pandas as pd\n",
    "import numpy as np\n",
    "import matplotlib.pyplot as plt\n",
    "import matplotlib.patches as mpatches\n",
    "import seaborn as sns\n",
    "\n",
    "from sklearn.preprocessing import Imputer\n",
    "from sklearn.model_selection import train_test_split\n",
    "from sklearn.preprocessing import StandardScaler\n",
    "from datetime import datetime\n",
    "\n",
    "from sklearn.linear_model import SGDClassifier\n",
    "import matplotlib.pyplot as plt\n",
    "\n",
    "import seaborn as sns\n",
    "from sklearn.metrics import confusion_matrix\n",
    "from sklearn.metrics import recall_score\n",
    "from sklearn.metrics import precision_score\n",
    "from sklearn.metrics import f1_score\n",
    "\n",
    "from sklearn.ensemble import RandomForestClassifier\n",
    "from sklearn.metrics import roc_curve\n",
    "from sklearn.metrics import roc_auc_score\n",
    "import xgboost as xgb\n",
    "from sklearn.linear_model import LogisticRegression\n",
    "from mlxtend.classifier import StackingClassifier\n",
    "from imblearn.over_sampling import SMOTE"
   ]
  },
  {
   "cell_type": "code",
   "execution_count": 5,
   "metadata": {
    "scrolled": true
   },
   "outputs": [
    {
     "name": "stdout",
     "output_type": "stream",
     "text": [
      "Shape of the dataset (60000, 171)\n",
      "Number of datapoints 60000\n",
      "Number of features 171\n"
     ]
    },
    {
     "data": {
      "text/html": [
       "<div>\n",
       "<style scoped>\n",
       "    .dataframe tbody tr th:only-of-type {\n",
       "        vertical-align: middle;\n",
       "    }\n",
       "\n",
       "    .dataframe tbody tr th {\n",
       "        vertical-align: top;\n",
       "    }\n",
       "\n",
       "    .dataframe thead th {\n",
       "        text-align: right;\n",
       "    }\n",
       "</style>\n",
       "<table border=\"1\" class=\"dataframe\">\n",
       "  <thead>\n",
       "    <tr style=\"text-align: right;\">\n",
       "      <th></th>\n",
       "      <th>class</th>\n",
       "      <th>feature_1_000</th>\n",
       "      <th>feature_2_000</th>\n",
       "      <th>feature_3_000</th>\n",
       "      <th>feature_4_000</th>\n",
       "      <th>feature_5_000</th>\n",
       "      <th>feature_6_000</th>\n",
       "      <th>feature_7_000</th>\n",
       "      <th>feature_7_001</th>\n",
       "      <th>feature_7_002</th>\n",
       "      <th>...</th>\n",
       "      <th>feature_105_002</th>\n",
       "      <th>feature_105_003</th>\n",
       "      <th>feature_105_004</th>\n",
       "      <th>feature_105_005</th>\n",
       "      <th>feature_105_006</th>\n",
       "      <th>feature_105_007</th>\n",
       "      <th>feature_105_008</th>\n",
       "      <th>feature_105_009</th>\n",
       "      <th>feature_106_000</th>\n",
       "      <th>feature_107_000</th>\n",
       "    </tr>\n",
       "  </thead>\n",
       "  <tbody>\n",
       "    <tr>\n",
       "      <th>0</th>\n",
       "      <td>neg</td>\n",
       "      <td>150472</td>\n",
       "      <td>na</td>\n",
       "      <td>na</td>\n",
       "      <td>na</td>\n",
       "      <td>na</td>\n",
       "      <td>na</td>\n",
       "      <td>0</td>\n",
       "      <td>0</td>\n",
       "      <td>0</td>\n",
       "      <td>...</td>\n",
       "      <td>1654734</td>\n",
       "      <td>748754</td>\n",
       "      <td>1447544</td>\n",
       "      <td>1207424</td>\n",
       "      <td>866890</td>\n",
       "      <td>508696</td>\n",
       "      <td>396736</td>\n",
       "      <td>0</td>\n",
       "      <td>na</td>\n",
       "      <td>na</td>\n",
       "    </tr>\n",
       "    <tr>\n",
       "      <th>1</th>\n",
       "      <td>neg</td>\n",
       "      <td>240</td>\n",
       "      <td>0</td>\n",
       "      <td>70</td>\n",
       "      <td>62</td>\n",
       "      <td>0</td>\n",
       "      <td>0</td>\n",
       "      <td>0</td>\n",
       "      <td>0</td>\n",
       "      <td>0</td>\n",
       "      <td>...</td>\n",
       "      <td>4248</td>\n",
       "      <td>1426</td>\n",
       "      <td>1834</td>\n",
       "      <td>1600</td>\n",
       "      <td>816</td>\n",
       "      <td>874</td>\n",
       "      <td>6</td>\n",
       "      <td>0</td>\n",
       "      <td>0</td>\n",
       "      <td>0</td>\n",
       "    </tr>\n",
       "    <tr>\n",
       "      <th>2</th>\n",
       "      <td>neg</td>\n",
       "      <td>59348</td>\n",
       "      <td>na</td>\n",
       "      <td>0</td>\n",
       "      <td>na</td>\n",
       "      <td>0</td>\n",
       "      <td>0</td>\n",
       "      <td>0</td>\n",
       "      <td>0</td>\n",
       "      <td>0</td>\n",
       "      <td>...</td>\n",
       "      <td>400926</td>\n",
       "      <td>198150</td>\n",
       "      <td>392978</td>\n",
       "      <td>426666</td>\n",
       "      <td>376902</td>\n",
       "      <td>271234</td>\n",
       "      <td>458198</td>\n",
       "      <td>25750</td>\n",
       "      <td>0</td>\n",
       "      <td>0</td>\n",
       "    </tr>\n",
       "    <tr>\n",
       "      <th>3</th>\n",
       "      <td>neg</td>\n",
       "      <td>31700</td>\n",
       "      <td>na</td>\n",
       "      <td>4868</td>\n",
       "      <td>4126</td>\n",
       "      <td>0</td>\n",
       "      <td>0</td>\n",
       "      <td>0</td>\n",
       "      <td>0</td>\n",
       "      <td>0</td>\n",
       "      <td>...</td>\n",
       "      <td>674688</td>\n",
       "      <td>223216</td>\n",
       "      <td>227050</td>\n",
       "      <td>43684</td>\n",
       "      <td>66</td>\n",
       "      <td>10</td>\n",
       "      <td>8</td>\n",
       "      <td>0</td>\n",
       "      <td>0</td>\n",
       "      <td>0</td>\n",
       "    </tr>\n",
       "    <tr>\n",
       "      <th>4</th>\n",
       "      <td>neg</td>\n",
       "      <td>17712</td>\n",
       "      <td>na</td>\n",
       "      <td>314</td>\n",
       "      <td>270</td>\n",
       "      <td>0</td>\n",
       "      <td>0</td>\n",
       "      <td>0</td>\n",
       "      <td>0</td>\n",
       "      <td>0</td>\n",
       "      <td>...</td>\n",
       "      <td>218418</td>\n",
       "      <td>69970</td>\n",
       "      <td>130530</td>\n",
       "      <td>327266</td>\n",
       "      <td>14178</td>\n",
       "      <td>38160</td>\n",
       "      <td>86</td>\n",
       "      <td>0</td>\n",
       "      <td>0</td>\n",
       "      <td>0</td>\n",
       "    </tr>\n",
       "  </tbody>\n",
       "</table>\n",
       "<p>5 rows × 171 columns</p>\n",
       "</div>"
      ],
      "text/plain": [
       "  class  feature_1_000 feature_2_000 feature_3_000 feature_4_000  \\\n",
       "0   neg         150472            na            na            na   \n",
       "1   neg            240             0            70            62   \n",
       "2   neg          59348            na             0            na   \n",
       "3   neg          31700            na          4868          4126   \n",
       "4   neg          17712            na           314           270   \n",
       "\n",
       "  feature_5_000 feature_6_000 feature_7_000 feature_7_001 feature_7_002  \\\n",
       "0            na            na             0             0             0   \n",
       "1             0             0             0             0             0   \n",
       "2             0             0             0             0             0   \n",
       "3             0             0             0             0             0   \n",
       "4             0             0             0             0             0   \n",
       "\n",
       "        ...       feature_105_002 feature_105_003 feature_105_004  \\\n",
       "0       ...               1654734          748754         1447544   \n",
       "1       ...                  4248            1426            1834   \n",
       "2       ...                400926          198150          392978   \n",
       "3       ...                674688          223216          227050   \n",
       "4       ...                218418           69970          130530   \n",
       "\n",
       "  feature_105_005 feature_105_006 feature_105_007 feature_105_008  \\\n",
       "0         1207424          866890          508696          396736   \n",
       "1            1600             816             874               6   \n",
       "2          426666          376902          271234          458198   \n",
       "3           43684              66              10               8   \n",
       "4          327266           14178           38160              86   \n",
       "\n",
       "  feature_105_009 feature_106_000 feature_107_000  \n",
       "0               0              na              na  \n",
       "1               0               0               0  \n",
       "2           25750               0               0  \n",
       "3               0               0               0  \n",
       "4               0               0               0  \n",
       "\n",
       "[5 rows x 171 columns]"
      ]
     },
     "execution_count": 5,
     "metadata": {},
     "output_type": "execute_result"
    }
   ],
   "source": [
    "#Loading the train_dataset\n",
    "data = pd.read_csv(\"train.csv\")\n",
    "print(\"Shape of the dataset \"+str(data.shape))\n",
    "print(\"Number of datapoints \"+str(data.shape[0]))\n",
    "print(\"Number of features \"+str(data.shape[1]))\n",
    "data.head()"
   ]
  },
  {
   "cell_type": "code",
   "execution_count": 6,
   "metadata": {},
   "outputs": [
    {
     "name": "stdout",
     "output_type": "stream",
     "text": [
      "Shape of the test_dataset (16000, 170)\n",
      "Number of test_datapoints 16000\n",
      "Number of test_features 170\n"
     ]
    },
    {
     "data": {
      "text/html": [
       "<div>\n",
       "<style scoped>\n",
       "    .dataframe tbody tr th:only-of-type {\n",
       "        vertical-align: middle;\n",
       "    }\n",
       "\n",
       "    .dataframe tbody tr th {\n",
       "        vertical-align: top;\n",
       "    }\n",
       "\n",
       "    .dataframe thead th {\n",
       "        text-align: right;\n",
       "    }\n",
       "</style>\n",
       "<table border=\"1\" class=\"dataframe\">\n",
       "  <thead>\n",
       "    <tr style=\"text-align: right;\">\n",
       "      <th></th>\n",
       "      <th>feature_1_000</th>\n",
       "      <th>feature_2_000</th>\n",
       "      <th>feature_3_000</th>\n",
       "      <th>feature_4_000</th>\n",
       "      <th>feature_5_000</th>\n",
       "      <th>feature_6_000</th>\n",
       "      <th>feature_7_000</th>\n",
       "      <th>feature_7_001</th>\n",
       "      <th>feature_7_002</th>\n",
       "      <th>feature_7_003</th>\n",
       "      <th>...</th>\n",
       "      <th>feature_105_002</th>\n",
       "      <th>feature_105_003</th>\n",
       "      <th>feature_105_004</th>\n",
       "      <th>feature_105_005</th>\n",
       "      <th>feature_105_006</th>\n",
       "      <th>feature_105_007</th>\n",
       "      <th>feature_105_008</th>\n",
       "      <th>feature_105_009</th>\n",
       "      <th>feature_106_000</th>\n",
       "      <th>feature_107_000</th>\n",
       "    </tr>\n",
       "  </thead>\n",
       "  <tbody>\n",
       "    <tr>\n",
       "      <th>0</th>\n",
       "      <td>18</td>\n",
       "      <td>0</td>\n",
       "      <td>2130706432</td>\n",
       "      <td>14</td>\n",
       "      <td>0</td>\n",
       "      <td>0</td>\n",
       "      <td>0</td>\n",
       "      <td>0</td>\n",
       "      <td>0</td>\n",
       "      <td>0</td>\n",
       "      <td>...</td>\n",
       "      <td>236</td>\n",
       "      <td>62</td>\n",
       "      <td>88</td>\n",
       "      <td>32</td>\n",
       "      <td>44</td>\n",
       "      <td>44</td>\n",
       "      <td>0</td>\n",
       "      <td>0</td>\n",
       "      <td>0</td>\n",
       "      <td>0</td>\n",
       "    </tr>\n",
       "    <tr>\n",
       "      <th>1</th>\n",
       "      <td>2348</td>\n",
       "      <td>0</td>\n",
       "      <td>108</td>\n",
       "      <td>54</td>\n",
       "      <td>0</td>\n",
       "      <td>0</td>\n",
       "      <td>0</td>\n",
       "      <td>0</td>\n",
       "      <td>0</td>\n",
       "      <td>19858</td>\n",
       "      <td>...</td>\n",
       "      <td>3578</td>\n",
       "      <td>1686</td>\n",
       "      <td>3594</td>\n",
       "      <td>4598</td>\n",
       "      <td>7670</td>\n",
       "      <td>75024</td>\n",
       "      <td>600</td>\n",
       "      <td>0</td>\n",
       "      <td>0</td>\n",
       "      <td>0</td>\n",
       "    </tr>\n",
       "    <tr>\n",
       "      <th>2</th>\n",
       "      <td>32908</td>\n",
       "      <td>na</td>\n",
       "      <td>974</td>\n",
       "      <td>920</td>\n",
       "      <td>0</td>\n",
       "      <td>0</td>\n",
       "      <td>0</td>\n",
       "      <td>0</td>\n",
       "      <td>0</td>\n",
       "      <td>2828</td>\n",
       "      <td>...</td>\n",
       "      <td>423396</td>\n",
       "      <td>218246</td>\n",
       "      <td>724886</td>\n",
       "      <td>166960</td>\n",
       "      <td>37818</td>\n",
       "      <td>19134</td>\n",
       "      <td>11216</td>\n",
       "      <td>0</td>\n",
       "      <td>0</td>\n",
       "      <td>0</td>\n",
       "    </tr>\n",
       "    <tr>\n",
       "      <th>3</th>\n",
       "      <td>81234</td>\n",
       "      <td>na</td>\n",
       "      <td>474</td>\n",
       "      <td>428</td>\n",
       "      <td>0</td>\n",
       "      <td>0</td>\n",
       "      <td>0</td>\n",
       "      <td>0</td>\n",
       "      <td>0</td>\n",
       "      <td>314</td>\n",
       "      <td>...</td>\n",
       "      <td>1004734</td>\n",
       "      <td>612730</td>\n",
       "      <td>1494324</td>\n",
       "      <td>792354</td>\n",
       "      <td>73166</td>\n",
       "      <td>13406</td>\n",
       "      <td>11760</td>\n",
       "      <td>98</td>\n",
       "      <td>0</td>\n",
       "      <td>0</td>\n",
       "    </tr>\n",
       "    <tr>\n",
       "      <th>4</th>\n",
       "      <td>45600</td>\n",
       "      <td>na</td>\n",
       "      <td>2130706432</td>\n",
       "      <td>106</td>\n",
       "      <td>0</td>\n",
       "      <td>0</td>\n",
       "      <td>0</td>\n",
       "      <td>0</td>\n",
       "      <td>0</td>\n",
       "      <td>0</td>\n",
       "      <td>...</td>\n",
       "      <td>487932</td>\n",
       "      <td>246574</td>\n",
       "      <td>510892</td>\n",
       "      <td>584826</td>\n",
       "      <td>227078</td>\n",
       "      <td>65098</td>\n",
       "      <td>32766</td>\n",
       "      <td>0</td>\n",
       "      <td>0</td>\n",
       "      <td>0</td>\n",
       "    </tr>\n",
       "  </tbody>\n",
       "</table>\n",
       "<p>5 rows × 170 columns</p>\n",
       "</div>"
      ],
      "text/plain": [
       "   feature_1_000 feature_2_000 feature_3_000 feature_4_000 feature_5_000  \\\n",
       "0             18             0    2130706432            14             0   \n",
       "1           2348             0           108            54             0   \n",
       "2          32908            na           974           920             0   \n",
       "3          81234            na           474           428             0   \n",
       "4          45600            na    2130706432           106             0   \n",
       "\n",
       "  feature_6_000 feature_7_000 feature_7_001 feature_7_002 feature_7_003  \\\n",
       "0             0             0             0             0             0   \n",
       "1             0             0             0             0         19858   \n",
       "2             0             0             0             0          2828   \n",
       "3             0             0             0             0           314   \n",
       "4             0             0             0             0             0   \n",
       "\n",
       "        ...       feature_105_002 feature_105_003 feature_105_004  \\\n",
       "0       ...                   236              62              88   \n",
       "1       ...                  3578            1686            3594   \n",
       "2       ...                423396          218246          724886   \n",
       "3       ...               1004734          612730         1494324   \n",
       "4       ...                487932          246574          510892   \n",
       "\n",
       "  feature_105_005 feature_105_006 feature_105_007 feature_105_008  \\\n",
       "0              32              44              44               0   \n",
       "1            4598            7670           75024             600   \n",
       "2          166960           37818           19134           11216   \n",
       "3          792354           73166           13406           11760   \n",
       "4          584826          227078           65098           32766   \n",
       "\n",
       "  feature_105_009 feature_106_000 feature_107_000  \n",
       "0               0               0               0  \n",
       "1               0               0               0  \n",
       "2               0               0               0  \n",
       "3              98               0               0  \n",
       "4               0               0               0  \n",
       "\n",
       "[5 rows x 170 columns]"
      ]
     },
     "execution_count": 6,
     "metadata": {},
     "output_type": "execute_result"
    }
   ],
   "source": [
    "# Loading the test data\n",
    "ace_test = pd.read_csv('test.csv')\n",
    "print(\"Shape of the test_dataset \"+str(ace_test.shape))\n",
    "print(\"Number of test_datapoints \"+str(ace_test.shape[0]))\n",
    "print(\"Number of test_features \"+str(ace_test.shape[1]))\n",
    "ace_test.head()"
   ]
  },
  {
   "cell_type": "code",
   "execution_count": 7,
   "metadata": {},
   "outputs": [
    {
     "name": "stdout",
     "output_type": "stream",
     "text": [
      "neg    59000\n",
      "pos     1000\n",
      "Name: class, dtype: int64\n"
     ]
    }
   ],
   "source": [
    "#Take look at the outcome variable : 'class'\n",
    "print(data['class'].value_counts())"
   ]
  },
  {
   "cell_type": "markdown",
   "metadata": {},
   "source": [
    "- Given data_set is highly imbalanced dataset from that majority is negative class and minority class is positive class."
   ]
  },
  {
   "cell_type": "code",
   "execution_count": 8,
   "metadata": {},
   "outputs": [],
   "source": [
    "# Assign outcome as 0 if class is 'neg' and else 1 for 'pos'\n",
    "data['class'] = [1 if i == 'pos' else 0 for i in data['class']]"
   ]
  },
  {
   "cell_type": "code",
   "execution_count": 9,
   "metadata": {},
   "outputs": [],
   "source": [
    "# Loading the original test_y\n",
    "ori_test_y = pd.read_csv(\"test_y.csv\", header=None)"
   ]
  },
  {
   "cell_type": "code",
   "execution_count": 10,
   "metadata": {},
   "outputs": [],
   "source": [
    "ori_test_y = [0 if x=='neg' else 1 for x in ori_test_y[0]]"
   ]
  },
  {
   "cell_type": "code",
   "execution_count": 11,
   "metadata": {},
   "outputs": [
    {
     "name": "stdout",
     "output_type": "stream",
     "text": [
      "Negative class  98.333 % of the dataset\n",
      "Positive class  1.667 % of the dataset\n"
     ]
    }
   ],
   "source": [
    "# we know our class_labels are heavily skewed\n",
    "print(\"Negative class \", round((data['class'].value_counts()[0]/len(data)) * 100, 3), \"% of the dataset\")\n",
    "print(\"Positive class \", round((data['class'].value_counts()[1]/len(data)) * 100, 3), \"% of the dataset\")"
   ]
  },
  {
   "cell_type": "code",
   "execution_count": 12,
   "metadata": {},
   "outputs": [
    {
     "data": {
      "text/plain": [
       "Text(0.5, 1.0, 'Class distribution \\n (0:negative class || 1:positive class)')"
      ]
     },
     "execution_count": 12,
     "metadata": {},
     "output_type": "execute_result"
    },
    {
     "data": {
      "image/png": "[encoded data removed]",
      "text/plain": [
       "<Figure size 432x288 with 1 Axes>"
      ]
     },
     "metadata": {
      "needs_background": "light"
     },
     "output_type": "display_data"
    }
   ],
   "source": [
    "#Class distributions\n",
    "sns.countplot(x='class', data=data)\n",
    "plt.title(\"Class distribution \\n (0:negative class || 1:positive class)\")"
   ]
  },
  {
   "cell_type": "code",
   "execution_count": 13,
   "metadata": {},
   "outputs": [],
   "source": [
    "# Replacing the 'na' with the 'NaN'\n",
    "data = data.replace('na', np.NaN)"
   ]
  },
  {
   "cell_type": "code",
   "execution_count": 14,
   "metadata": {},
   "outputs": [],
   "source": [
    "# Replacing the 'na' with the 'NaN' for test data\n",
    "ace_test = ace_test.replace('na', np.NaN)"
   ]
  },
  {
   "cell_type": "code",
   "execution_count": 15,
   "metadata": {},
   "outputs": [
    {
     "data": {
      "text/plain": [
       "feature_43_000    49264\n",
       "feature_42_000    48722\n",
       "feature_41_000    47740\n",
       "feature_40_000    46333\n",
       "feature_68_000    46329\n",
       "dtype: int64"
      ]
     },
     "execution_count": 15,
     "metadata": {},
     "output_type": "execute_result"
    }
   ],
   "source": [
    "# Checking the null values are present in the dataset\n",
    "data.isnull().sum().sort_values(ascending=False).head()"
   ]
  },
  {
   "cell_type": "code",
   "execution_count": 16,
   "metadata": {},
   "outputs": [
    {
     "data": {
      "image/png": "[encoded data removed]",
      "text/plain": [
       "<Figure size 432x288 with 1 Axes>"
      ]
     },
     "metadata": {
      "needs_background": "light"
     },
     "output_type": "display_data"
    }
   ],
   "source": [
    "#Storing nan values of each features\n",
    "count_nan_values = [i for i in data.isnull().sum()]\n",
    "#ploting nan_values in each feature\n",
    "plt.bar(data.columns, count_nan_values)\n",
    "plt.show()"
   ]
  },
  {
   "cell_type": "code",
   "execution_count": 17,
   "metadata": {},
   "outputs": [],
   "source": [
    "# # Distributions for some features\n",
    "# fig, ax = plt.subplots(1, 4, figsize=(18, 4))\n",
    "\n",
    "# fea_1_000_val = data['feature_1_000'].values\n",
    "# sns.distplot(fea_1_000_val, ax=ax[0], color='r')\n",
    "# ax[0].set_title('Distribution of feature_1_000', fontsize=14)\n",
    "# ax[0].set_xlim([min(fea_1_000_val), max(fea_1_000_val)])\n",
    "\n",
    "# fea_2_000_val = data['feature_2_000'].values\n",
    "# sns.distplot(fea_2_000_val, ax=ax[1], color='b')\n",
    "# ax[1].set_title('Distribution of feature_2_000', fontsize=14)\n",
    "# ax[1].set_xlim([min(fea_2_000_val), max(fea_2_000_val)])\n",
    "\n",
    "# fea_3_000_val = data['feature_3_000'].values\n",
    "# sns.distplot(fea_3_000_val, ax=ax[2], color='b')\n",
    "# ax[2].set_title('Distribution of feature_3_000', fontsize=14)\n",
    "# ax[2].set_xlim([min(fea_3_000_val), max(fea_3_000_val)])\n",
    "\n",
    "# fea_4_000_val = data['feature_4_000'].values\n",
    "# sns.distplot(fea_4_000_val, ax=ax[3], color='r')\n",
    "# ax[3].set_title('Distribution of feature_4_000', fontsize=14)\n",
    "# ax[3].set_xlim([min(fea_4_000_val), max(fea_4_000_val)])\n",
    "\n",
    "# plt.show()"
   ]
  },
  {
   "cell_type": "code",
   "execution_count": 18,
   "metadata": {},
   "outputs": [
    {
     "name": "stdout",
     "output_type": "stream",
     "text": [
      "Shape of the train data (38400, 170)\n",
      "Shape of the cross validation data (9600, 170)\n",
      "Shape of the test data (12000, 170)\n"
     ]
    }
   ],
   "source": [
    "############## Splitting the data ###############\n",
    "X = data.drop('class', axis=1)\n",
    "y = data['class']\n",
    "\n",
    "#Splitting the data \n",
    "X_train, X_test, y_train, y_test = train_test_split(X, y, test_size=0.2, random_state=42)\n",
    "\n",
    "#splitting the data into train and test\n",
    "X_tr, X_cv, y_tr, y_cv = train_test_split(X_train, y_train, test_size=0.2, random_state=42)\n",
    "\n",
    "print(\"Shape of the train data \"+str(X_tr.shape))\n",
    "print(\"Shape of the cross validation data \"+str(X_cv.shape))\n",
    "print(\"Shape of the test data \"+str(X_test.shape))"
   ]
  },
  {
   "cell_type": "markdown",
   "metadata": {},
   "source": [
    "## I. Mean Imputation:"
   ]
  },
  {
   "cell_type": "code",
   "execution_count": 19,
   "metadata": {},
   "outputs": [],
   "source": [
    "# Imputing the missing values using the mean values\n",
    "imp = Imputer(missing_values='NaN', strategy='mean', axis=0).fit(X_tr)\n",
    "X_tr = imp.transform(X_tr)\n",
    "X_cv = imp.transform(X_cv)\n",
    "X_test = imp.transform(X_test)\n",
    "# imp.fit(data)\n",
    "# data = pd.DataFrame(data=imp.transform(data), columns = data.columns)"
   ]
  },
  {
   "cell_type": "code",
   "execution_count": 20,
   "metadata": {},
   "outputs": [],
   "source": [
    "# Imputation for original test dataset\n",
    "ace_test_imp = imp.transform(ace_test)"
   ]
  },
  {
   "cell_type": "code",
   "execution_count": 21,
   "metadata": {},
   "outputs": [],
   "source": [
    "# # Checking the null values are present in the dataset. (There are no null values)\n",
    "# data.isnull().sum().sort_values(ascending=False).head()"
   ]
  },
  {
   "cell_type": "markdown",
   "metadata": {},
   "source": [
    "- By seeing the distributions how features are skewed."
   ]
  },
  {
   "cell_type": "code",
   "execution_count": 22,
   "metadata": {},
   "outputs": [
    {
     "name": "stdout",
     "output_type": "stream",
     "text": [
      "Label Distributions: \n",
      "\n",
      "Train data [0.9840625 0.0159375]\n",
      "cross_validation data [0.98104167 0.01895833]\n",
      "Test data [0.98283333 0.01716667]\n"
     ]
    }
   ],
   "source": [
    "################# Checking the distribution of the labels ######################\n",
    "\n",
    "#Turning into arrays\n",
    "# X_tr = X_tr.values\n",
    "# X_cv = X_cv.values\n",
    "# X_test = X_test.values\n",
    "y_tr = y_tr.values\n",
    "y_cv = y_cv.values\n",
    "y_test = y_test.values\n",
    "\n",
    "# Note : train_unique_label = [number of labels ex: 0 and 1] , train_counts_label = [No.of times unique 0 occurs, 1 occurs]\n",
    "train_unique_label, train_counts_label = np.unique(y_tr, return_counts=True)\n",
    "cv_unique_label, cv_counts_label = np.unique(y_cv, return_counts=True)\n",
    "test_unique_label, test_counts_label = np.unique(y_test, return_counts=True)\n",
    "\n",
    "print('Label Distributions: \\n')\n",
    "print(\"Train data \"+str(train_counts_label/ len(y_tr)))\n",
    "print(\"cross_validation data \"+str(cv_counts_label / len(y_cv)))\n",
    "print(\"Test data \"+str(test_counts_label/ len(y_test)))"
   ]
  },
  {
   "cell_type": "code",
   "execution_count": 23,
   "metadata": {},
   "outputs": [],
   "source": [
    "############### Scaling the data ############\n",
    "\"\"\"StandardScaler() will normalize the features (each column of data) \n",
    "so that each column/feature/variable will have mean = 0 and standard deviation = 1.\"\"\"\n",
    "\n",
    "scaler = StandardScaler().fit(X_tr)\n",
    "X_tr_std = scaler.transform(X_tr)\n",
    "X_cv_std = scaler.transform(X_cv)\n",
    "X_test_std = scaler.transform(X_test)"
   ]
  },
  {
   "cell_type": "code",
   "execution_count": 24,
   "metadata": {},
   "outputs": [],
   "source": [
    "# Standardizing the original test data\n",
    "ace_test_std = scaler.transform(ace_test_imp)"
   ]
  },
  {
   "cell_type": "markdown",
   "metadata": {},
   "source": [
    "## Model Building using the mean imputation: "
   ]
  },
  {
   "cell_type": "code",
   "execution_count": 25,
   "metadata": {},
   "outputs": [],
   "source": [
    "def custom_metric(y_true, y_pred):\n",
    "    # Calculating the false_positive\n",
    "    false_pos = confusion_matrix(y_true, y_pred)[0][1]\n",
    "    #rint(\"False positives  \" +str(false_pos))\n",
    "    # Calculating the false_negative\n",
    "    false_neg = confusion_matrix(y_true, y_pred)[1][0]\n",
    "    #print(\"False negatives \" +str(false_neg))\n",
    "    custom_metric_val = (false_pos*10) + (false_neg * 500)\n",
    "    return custom_metric_val"
   ]
  },
  {
   "cell_type": "code",
   "execution_count": 26,
   "metadata": {},
   "outputs": [],
   "source": [
    "def train_model(hyperparameters, train_x, train_y, cv_x, cv_y, loss):\n",
    "    train_recall_scores = []\n",
    "    cv_recall_scores = []\n",
    "    train_custom_scores = []\n",
    "    cv_custom_scores = []\n",
    "    num_false_negs = []\n",
    "    #Finding the best hyperparameter using the cross validation\n",
    "    for x in hyperparameters:\n",
    "        clf = SGDClassifier(alpha=x, loss=loss, random_state=42, class_weight='balanced')\n",
    "        clf.fit(train_x, train_y)\n",
    "        y_pred = clf.predict(cv_x)\n",
    "        \n",
    "        train_custom_scores.append(custom_metric(train_y, clf.predict(train_x)))\n",
    "        train_recall_scores.append(recall_score(train_y, clf.predict(train_x)))\n",
    "        print('For value of alpha = ', x, \"The cv recall is:\",recall_score(cv_y, y_pred, average='weighted'))\n",
    "        cv_recall_scores.append(recall_score(cv_y, y_pred))\n",
    "        print('For value of alpha =', x, \"custom matric value is:\",custom_metric(cv_y, y_pred))\n",
    "        cv_custom_scores.append(custom_metric(cv_y, y_pred))\n",
    "        false_neg = confusion_matrix(cv_y, y_pred)[1][0]\n",
    "        num_false_negs.append(false_neg)\n",
    "        print(\"\\n\")\n",
    "    return train_recall_scores,cv_recall_scores,  train_custom_scores, cv_custom_scores, num_false_negs"
   ]
  },
  {
   "cell_type": "code",
   "execution_count": 27,
   "metadata": {},
   "outputs": [],
   "source": [
    "def plot(hyperparameters, train_scores, cv_scores, label_x, label_y, title):\n",
    "    plt.plot(train_scores, '-o', label=label_x)\n",
    "    plt.plot(cv_scores, 'o-', label=label_y)\n",
    "    plt.title(title)\n",
    "    ax = plt.gca()\n",
    "    plt.xticks(np.arange(len(hyperparameters)), hyperparameters, rotation='vertical')\n",
    "    plt.legend()\n",
    "    plt.show()"
   ]
  },
  {
   "cell_type": "code",
   "execution_count": 28,
   "metadata": {},
   "outputs": [],
   "source": [
    "#Function for calculating the metrics\n",
    "def test_metrics(y_test, y_pred):\n",
    "    cm = pd.DataFrame(confusion_matrix(y_test,y_pred),range(2),range(2))\n",
    "    sns.set(font_scale=1.5)\n",
    "    sns.heatmap(cm,annot=True,annot_kws={\"size\": 20}, fmt='g', vmin=0, vmax=12000)\n",
    "    \n",
    "    print(\"Precision on test data:\", round(precision_score(y_test, y_pred) * 100 , 2))\n",
    "    print(\"Recall on test data:\", round(recall_score(y_test, y_pred) * 100 , 2))\n",
    "    print(\"F1_score on test data:\", round(f1_score(y_test, y_pred) * 100,2))\n",
    "    plt.xlabel('Predicted Class')\n",
    "    plt.ylabel('Original Class')\n",
    "    plt.show()"
   ]
  },
  {
   "cell_type": "code",
   "execution_count": 29,
   "metadata": {},
   "outputs": [],
   "source": [
    "def testing_model(best_alpha, loss, train_x, train_y, cv_x, cv_y, test_x, test_y):\n",
    "    ### Using the best_alpha finding train_loss, cv_loss and test_loss  \n",
    "    clf = SGDClassifier(alpha=best_alpha, loss=loss, random_state=42, class_weight='balanced')\n",
    "    clf.fit(train_x, train_y)\n",
    "    \n",
    "    # training recall\n",
    "    tr_pred_y = clf.predict(train_x)\n",
    "    print(\"Train recall with best_hyperparameter \"+str(recall_score(train_y, tr_pred_y, average='weighted')))\n",
    "    cm_tr = confusion_matrix(train_y, tr_pred_y)\n",
    "    # cv recall \n",
    "    pred_y = clf.predict(cv_x)\n",
    "    print(\"cross validation recall with best_hyperparameter \"+str(recall_score(cv_y, pred_y, average='weighted')))\n",
    "\n",
    "    # Test recall \n",
    "    te_pred_y = clf.predict(test_x)\n",
    "    print(\"Test recall with best_hyperparameter \"+str(recall_score(test_y, te_pred_y, average='weighted')))\n",
    "    cm_te = confusion_matrix(test_y, te_pred_y)\n",
    "    #print('roc_value: ', roc_auc_score(test_y, pred_y))\n",
    "    # Calling function for calculating the metrics\n",
    "    print(\"*\"*20, \"performance metrics\", \"*\"*20)\n",
    "    plt.figure(figsize=(20,4))\n",
    "    \n",
    "    labels = [0,1]\n",
    "    # representing A in heatmap format\n",
    "    #cmap=sns.light_palette(\"blue\")\n",
    "    plt.subplot(1, 3, 1)\n",
    "    sns.heatmap(cm_tr, annot=True, fmt=\".2f\", xticklabels=labels, yticklabels=labels)\n",
    "    plt.xlabel('Predicted Class')\n",
    "    plt.ylabel('Original Class')\n",
    "    plt.title(\"Train Confusion matrix\")\n",
    "\n",
    "    plt.subplot(1, 3, 2)\n",
    "    sns.heatmap(cm_te, annot=True, fmt=\".2f\", xticklabels=labels, yticklabels=labels)\n",
    "    plt.xlabel('Predicted Class')\n",
    "    plt.ylabel('Original Class')\n",
    "    plt.title(\"Test Confusion matrix\")\n",
    "    plt.show()\n",
    "    #     test_metrics(y_test, pred_y)\n",
    "    print(\"Train custom_score is \"+str(custom_metric(train_y, tr_pred_y)))\n",
    "    print(\"Test custom_score is \"+str(custom_metric(test_y, te_pred_y)))"
   ]
  },
  {
   "cell_type": "markdown",
   "metadata": {},
   "source": [
    "## 1. Logistic Regression:"
   ]
  },
  {
   "cell_type": "markdown",
   "metadata": {},
   "source": [
    "### 1.1: Training the model and hyperparameter tuning:"
   ]
  },
  {
   "cell_type": "code",
   "execution_count": 30,
   "metadata": {},
   "outputs": [
    {
     "name": "stdout",
     "output_type": "stream",
     "text": [
      "For value of alpha =  1e-05 The cv recall is: 0.96\n",
      "For value of alpha = 1e-05 custom matric value is: 14130\n",
      "\n",
      "\n",
      "For value of alpha =  0.0001 The cv recall is: 0.9709375\n",
      "For value of alpha = 0.0001 custom matric value is: 14550\n",
      "\n",
      "\n",
      "For value of alpha =  0.001 The cv recall is: 0.9704166666666667\n",
      "For value of alpha = 0.001 custom matric value is: 12640\n",
      "\n",
      "\n",
      "For value of alpha =  0.01 The cv recall is: 0.9688541666666667\n",
      "For value of alpha = 0.01 custom matric value is: 9850\n",
      "\n",
      "\n",
      "For value of alpha =  0.1 The cv recall is: 0.9714583333333333\n",
      "For value of alpha = 0.1 custom matric value is: 11070\n",
      "\n",
      "\n",
      "For value of alpha =  1 The cv recall is: 0.9615625\n",
      "For value of alpha = 1 custom matric value is: 11040\n",
      "\n",
      "\n",
      "For value of alpha =  10 The cv recall is: 0.9128125\n",
      "For value of alpha = 10 custom matric value is: 12290\n",
      "\n",
      "\n",
      "For value of alpha =  100 The cv recall is: 0.9045833333333333\n",
      "For value of alpha = 100 custom matric value is: 13080\n",
      "\n",
      "\n",
      "For value of alpha =  1000 The cv recall is: 0.9602083333333333\n",
      "For value of alpha = 1000 custom matric value is: 12150\n",
      "\n",
      "\n"
     ]
    }
   ],
   "source": [
    "# Training the model and hyperparameter tunning.\n",
    "alpha = [10 ** x for x in range(-5,4)]\n",
    "tr_recall_scores, cv_recall_scores, train_custom_scores, cv_custom_scores, num_false_negs = train_model(alpha, X_tr_std, y_tr,\n",
    "                                                                                                       X_cv_std,  y_cv, 'log')\n",
    "# print(\"Before average :\")\n",
    "# print(train_custom_scores, cv_custom_scores)\n",
    "## Averaging the train custom scores\n",
    "train_custom_scores = np.array(train_custom_scores) / len(X_tr)\n",
    "## Averaging the cross_validation scores\n",
    "cv_custom_scores = np.array(cv_custom_scores) / len(X_cv)\n",
    "# print(\"After average :\")\n",
    "# print(train_custom_scores, cv_custom_scores)"
   ]
  },
  {
   "cell_type": "markdown",
   "metadata": {},
   "source": [
    "### 1.2: Taking the best hyperparameter using the less custom_score in cv:"
   ]
  },
  {
   "cell_type": "code",
   "execution_count": 31,
   "metadata": {},
   "outputs": [
    {
     "data": {
      "image/png": "[encoded data removed]",
      "text/plain": [
       "<Figure size 432x288 with 1 Axes>"
      ]
     },
     "metadata": {
      "needs_background": "light"
     },
     "output_type": "display_data"
    },
    {
     "name": "stdout",
     "output_type": "stream",
     "text": [
      "Best alpha using the less custom score 0.01\n",
      "Train recall with best_hyperparameter 0.9644010416666666\n",
      "cross validation recall with best_hyperparameter 0.9688541666666667\n",
      "Test recall with best_hyperparameter 0.9673333333333334\n",
      "******************** performance metrics ********************\n"
     ]
    },
    {
     "data": {
      "image/png": "[encoded data removed]",
      "text/plain": [
       "<Figure size 1440x288 with 4 Axes>"
      ]
     },
     "metadata": {
      "needs_background": "light"
     },
     "output_type": "display_data"
    },
    {
     "name": "stdout",
     "output_type": "stream",
     "text": [
      "Train custom_score is 35230\n",
      "Test custom_score is 9800\n"
     ]
    }
   ],
   "source": [
    "# ploting the custom_metric_values\n",
    "plot(alpha, train_custom_scores, cv_custom_scores, 'train_custom_per_pt', 'cv_custom_per_pt', 'custom_scores for train and cv')\n",
    "best_alpha = np.argmin(cv_custom_scores)\n",
    "print(\"Best alpha using the less custom score \"+str(alpha[best_alpha]))\n",
    "testing_model(alpha[best_alpha], 'log', X_tr_std, y_tr, X_cv_std, y_cv, X_test_std, y_test)"
   ]
  },
  {
   "cell_type": "markdown",
   "metadata": {},
   "source": [
    "### 1.3: Taking the best hyperparameter using the best F1_score:"
   ]
  },
  {
   "cell_type": "code",
   "execution_count": 32,
   "metadata": {},
   "outputs": [
    {
     "data": {
      "image/png": "[encoded data removed]",
      "text/plain": [
       "<Figure size 432x288 with 1 Axes>"
      ]
     },
     "metadata": {
      "needs_background": "light"
     },
     "output_type": "display_data"
    },
    {
     "name": "stdout",
     "output_type": "stream",
     "text": [
      "Best alpha using the less custom score 10\n",
      "Train recall with best_hyperparameter 0.911328125\n",
      "cross validation recall with best_hyperparameter 0.9128125\n",
      "Test recall with best_hyperparameter 0.9128333333333334\n",
      "******************** performance metrics ********************\n"
     ]
    },
    {
     "data": {
      "image/png": "[encoded data removed]",
      "text/plain": [
       "<Figure size 1440x288 with 4 Axes>"
      ]
     },
     "metadata": {
      "needs_background": "light"
     },
     "output_type": "display_data"
    },
    {
     "name": "stdout",
     "output_type": "stream",
     "text": [
      "Train custom_score is 45810\n",
      "Test custom_score is 12420\n"
     ]
    }
   ],
   "source": [
    "#ploting the recall values\n",
    "plot(alpha, tr_recall_scores, cv_recall_scores, 'train_recall', 'cv_recall', 'Recall for train and test')\n",
    "best_alpha = np.argmax(cv_recall_scores)\n",
    "print(\"Best alpha using the less custom score \"+str(alpha[best_alpha]))\n",
    "testing_model(alpha[best_alpha], 'log', X_tr_std, y_tr, X_cv_std, y_cv, X_test_std, y_test)"
   ]
  },
  {
   "cell_type": "markdown",
   "metadata": {},
   "source": [
    "**Finding the original test data custom score using the best hyperparameter(0.01):**"
   ]
  },
  {
   "cell_type": "code",
   "execution_count": 33,
   "metadata": {},
   "outputs": [
    {
     "name": "stdout",
     "output_type": "stream",
     "text": [
      "custom_score for original test data is 15430\n"
     ]
    }
   ],
   "source": [
    "log_clf = SGDClassifier(alpha=0.01, loss='log', random_state=42, class_weight='balanced')\n",
    "log_clf.fit(X_tr_std, y_tr)\n",
    "ori_y_test_pred = log_clf.predict(ace_test_std)\n",
    "print(\"custom_score for original test data is \" +str(custom_metric(ori_test_y, ori_y_test_pred)))"
   ]
  },
  {
   "cell_type": "markdown",
   "metadata": {},
   "source": [
    "## 2. Linear svm:"
   ]
  },
  {
   "cell_type": "markdown",
   "metadata": {},
   "source": [
    "### 2.1: Training the model and hyperparameter tuning:"
   ]
  },
  {
   "cell_type": "code",
   "execution_count": 34,
   "metadata": {},
   "outputs": [
    {
     "name": "stdout",
     "output_type": "stream",
     "text": [
      "For value of alpha =  1e-06 The cv recall is: 0.948125\n",
      "For value of alpha = 1e-06 custom matric value is: 9390\n",
      "\n",
      "\n",
      "For value of alpha =  1e-05 The cv recall is: 0.9505208333333334\n",
      "For value of alpha = 1e-05 custom matric value is: 10630\n",
      "\n",
      "\n",
      "For value of alpha =  0.0001 The cv recall is: 0.9665625\n",
      "For value of alpha = 0.0001 custom matric value is: 11050\n",
      "\n",
      "\n",
      "For value of alpha =  0.001 The cv recall is: 0.9673958333333333\n",
      "For value of alpha = 0.001 custom matric value is: 10480\n",
      "\n",
      "\n",
      "For value of alpha =  0.01 The cv recall is: 0.9683333333333334\n",
      "For value of alpha = 0.01 custom matric value is: 12350\n",
      "\n",
      "\n",
      "For value of alpha =  0.1 The cv recall is: 0.9657291666666666\n",
      "For value of alpha = 0.1 custom matric value is: 10150\n",
      "\n",
      "\n",
      "For value of alpha =  1 The cv recall is: 0.9671875\n",
      "For value of alpha = 1 custom matric value is: 11970\n",
      "\n",
      "\n",
      "For value of alpha =  10 The cv recall is: 0.9573958333333333\n",
      "For value of alpha = 10 custom matric value is: 11930\n",
      "\n",
      "\n",
      "For value of alpha =  100 The cv recall is: 0.9316666666666666\n",
      "For value of alpha = 100 custom matric value is: 11950\n",
      "\n",
      "\n"
     ]
    }
   ],
   "source": [
    "# Training the model and hyperparameter tunning.\n",
    "alpha = [10 ** x for x in range(-6, 3)]\n",
    "tr_recall_scores, cv_recall_scores, train_custom_scores, cv_custom_scores, num_false_negs = train_model(alpha, X_tr_std, y_tr,\n",
    "                                                                                                       X_cv_std,  y_cv, 'hinge')\n",
    "# print(\"Before average :\")\n",
    "# print(train_custom_scores, cv_custom_scores)\n",
    "## Averaging the train custom scores\n",
    "train_custom_scores = np.array(train_custom_scores) / len(X_tr)\n",
    "## Averaging the cross_validation scores\n",
    "cv_custom_scores = np.array(cv_custom_scores) / len(X_cv)\n",
    "# print(\"After average :\")\n",
    "# print(train_custom_scores, cv_custom_scores)"
   ]
  },
  {
   "cell_type": "markdown",
   "metadata": {},
   "source": [
    "### 2.2: Taking the best hyperparameter using the less custom_score in cv:"
   ]
  },
  {
   "cell_type": "code",
   "execution_count": 35,
   "metadata": {},
   "outputs": [
    {
     "data": {
      "image/png": "[encoded data removed]",
      "text/plain": [
       "<Figure size 432x288 with 1 Axes>"
      ]
     },
     "metadata": {
      "needs_background": "light"
     },
     "output_type": "display_data"
    },
    {
     "name": "stdout",
     "output_type": "stream",
     "text": [
      "Best alpha using the less custom score 1e-06\n",
      "Train recall with best_hyperparameter 0.9480989583333334\n",
      "cross validation recall with best_hyperparameter 0.948125\n",
      "Test recall with best_hyperparameter 0.952\n",
      "******************** performance metrics ********************\n"
     ]
    },
    {
     "data": {
      "image/png": "[encoded data removed]",
      "text/plain": [
       "<Figure size 1440x288 with 4 Axes>"
      ]
     },
     "metadata": {
      "needs_background": "light"
     },
     "output_type": "display_data"
    },
    {
     "name": "stdout",
     "output_type": "stream",
     "text": [
      "Train custom_score is 39040\n",
      "Test custom_score is 11150\n"
     ]
    }
   ],
   "source": [
    "# ploting the custom_metric_values\n",
    "plot(alpha, train_custom_scores, cv_custom_scores, 'train_custom_per_pt', 'cv_custom_per_pt', 'custom_scores for train and cv')\n",
    "best_alpha = np.argmin(cv_custom_scores)\n",
    "print(\"Best alpha using the less custom score \"+str(alpha[best_alpha]))\n",
    "testing_model(alpha[best_alpha], 'hinge', X_tr_std, y_tr, X_cv_std, y_cv, X_test_std, y_test)"
   ]
  },
  {
   "cell_type": "markdown",
   "metadata": {},
   "source": [
    "### 2.3: Taking the best hyperparameter using the best F1_score:"
   ]
  },
  {
   "cell_type": "code",
   "execution_count": 36,
   "metadata": {},
   "outputs": [
    {
     "data": {
      "image/png": "[encoded data removed]",
      "text/plain": [
       "<Figure size 432x288 with 1 Axes>"
      ]
     },
     "metadata": {
      "needs_background": "light"
     },
     "output_type": "display_data"
    },
    {
     "name": "stdout",
     "output_type": "stream",
     "text": [
      "Best alpha using the less custom score 1e-06\n",
      "Train recall with best_hyperparameter 0.9480989583333334\n",
      "cross validation recall with best_hyperparameter 0.948125\n",
      "Test recall with best_hyperparameter 0.952\n",
      "******************** performance metrics ********************\n"
     ]
    },
    {
     "data": {
      "image/png": "[encoded data removed]",
      "text/plain": [
       "<Figure size 1440x288 with 4 Axes>"
      ]
     },
     "metadata": {
      "needs_background": "light"
     },
     "output_type": "display_data"
    },
    {
     "name": "stdout",
     "output_type": "stream",
     "text": [
      "Train custom_score is 39040\n",
      "Test custom_score is 11150\n"
     ]
    }
   ],
   "source": [
    "#ploting the recall values\n",
    "plot(alpha, tr_recall_scores, cv_recall_scores, 'train_recall', 'cv_recall', 'Recall for train and test')\n",
    "best_alpha = np.argmax(cv_recall_scores)\n",
    "print(\"Best alpha using the less custom score \"+str(alpha[best_alpha]))\n",
    "testing_model(alpha[best_alpha], 'hinge', X_tr_std, y_tr, X_cv_std, y_cv, X_test_std, y_test)"
   ]
  },
  {
   "cell_type": "markdown",
   "metadata": {},
   "source": [
    "**Finding the original test data custom score using the best hyperparameter(1e-06):**"
   ]
  },
  {
   "cell_type": "code",
   "execution_count": 37,
   "metadata": {},
   "outputs": [
    {
     "name": "stdout",
     "output_type": "stream",
     "text": [
      "custom_score for original test data is 16020\n"
     ]
    }
   ],
   "source": [
    "svc_clf = SGDClassifier(alpha=1e-06, loss='hinge', random_state=42, class_weight='balanced')\n",
    "svc_clf.fit(X_tr_std, y_tr)\n",
    "ori_y_test_pred = svc_clf.predict(ace_test_std)\n",
    "print(\"custom_score for original test data is \" +str(custom_metric(ori_test_y, ori_y_test_pred)))"
   ]
  },
  {
   "cell_type": "markdown",
   "metadata": {},
   "source": [
    "## 3. xgboost"
   ]
  },
  {
   "cell_type": "code",
   "execution_count": 68,
   "metadata": {},
   "outputs": [],
   "source": [
    "# Imputation\n",
    "imp = Imputer(missing_values='NaN', strategy='mean', axis=0).fit(X)\n",
    "train_x = imp.transform(X)\n",
    "test_x = imp.transform(ace_test)"
   ]
  },
  {
   "cell_type": "code",
   "execution_count": 69,
   "metadata": {},
   "outputs": [],
   "source": [
    "# Standardizing the data\n",
    "scaler = StandardScaler().fit(train_x)\n",
    "train_x_std = scaler.transform(train_x)\n",
    "test_x_std = scaler.transform(test_x)"
   ]
  },
  {
   "cell_type": "code",
   "execution_count": 70,
   "metadata": {},
   "outputs": [],
   "source": [
    "weights = np.zeros(len(y))\n",
    "weights[y == 0] = 1\n",
    "weights[y == 1] = 5\n",
    "dtrain = xgb.DMatrix(train_x_std, label=y, weight=weights)\n",
    "dtest  = xgb.DMatrix(test_x_std)"
   ]
  },
  {
   "cell_type": "code",
   "execution_count": 51,
   "metadata": {},
   "outputs": [],
   "source": [
    "params = {'objective':'binary:logistic',\n",
    "         'max_depth':3,\n",
    "         'silent':1,\n",
    "         'eta':0.09}\n",
    "num_rounds = 100"
   ]
  },
  {
   "cell_type": "code",
   "execution_count": 52,
   "metadata": {},
   "outputs": [],
   "source": [
    "ratio = float(np.sum(y==0)) / np.sum(y==1)\n",
    "params['scale_pos_weight'] = ratio"
   ]
  },
  {
   "cell_type": "code",
   "execution_count": 54,
   "metadata": {},
   "outputs": [],
   "source": [
    "bst = xgb.train(params, dtrain, num_rounds)\n",
    "y_test_preds = (bst.predict(dtest)>0.5).astype('int')"
   ]
  },
  {
   "cell_type": "code",
   "execution_count": 55,
   "metadata": {},
   "outputs": [
    {
     "name": "stdout",
     "output_type": "stream",
     "text": [
      "custom_score for original test data is 10660\n"
     ]
    }
   ],
   "source": [
    "print(\"custom_score for original test data is \" +str(custom_metric(ori_test_y, y_test_preds)))"
   ]
  },
  {
   "cell_type": "markdown",
   "metadata": {},
   "source": [
    "# II. Median Imputation:"
   ]
  },
  {
   "cell_type": "code",
   "execution_count": 56,
   "metadata": {},
   "outputs": [
    {
     "name": "stdout",
     "output_type": "stream",
     "text": [
      "Shape of the train data (38400, 170)\n",
      "Shape of the cross validation data (9600, 170)\n",
      "Shape of the test data (12000, 170)\n",
      "Label Distributions: \n",
      "\n",
      "Train data [0.9840625 0.0159375]\n",
      "cross_validation data [0.98104167 0.01895833]\n",
      "Test data [0.98283333 0.01716667]\n"
     ]
    }
   ],
   "source": [
    "############## Splitting the data ###############\n",
    "X = data.drop('class', axis=1)\n",
    "y = data['class']\n",
    "\n",
    "#Splitting the data \n",
    "X_train, X_test, y_train, y_test = train_test_split(X, y, test_size=0.2, random_state=42)\n",
    "\n",
    "#splitting the data into train and test\n",
    "X_tr, X_cv, y_tr, y_cv = train_test_split(X_train, y_train, test_size=0.2, random_state=42)\n",
    "\n",
    "print(\"Shape of the train data \"+str(X_tr.shape))\n",
    "print(\"Shape of the cross validation data \"+str(X_cv.shape))\n",
    "print(\"Shape of the test data \"+str(X_test.shape))\n",
    "\n",
    "\n",
    "\n",
    "# Imputing the missing values using the mean values\n",
    "imp = Imputer(missing_values='NaN', strategy='median', axis=0).fit(X_tr)\n",
    "X_tr = imp.transform(X_tr)\n",
    "X_cv = imp.transform(X_cv)\n",
    "X_test = imp.transform(X_test)\n",
    "\n",
    "# Imputation for original test dataset\n",
    "ace_test_imp = imp.transform(ace_test)\n",
    "\n",
    "\n",
    "\n",
    "y_tr = y_tr.values\n",
    "y_cv = y_cv.values\n",
    "y_test = y_test.values\n",
    "\n",
    "# Note : train_unique_label = [number of labels ex: 0 and 1] , train_counts_label = [No.of times unique 0 occurs, 1 occurs]\n",
    "train_unique_label, train_counts_label = np.unique(y_tr, return_counts=True)\n",
    "cv_unique_label, cv_counts_label = np.unique(y_cv, return_counts=True)\n",
    "test_unique_label, test_counts_label = np.unique(y_test, return_counts=True)\n",
    "\n",
    "print('Label Distributions: \\n')\n",
    "print(\"Train data \"+str(train_counts_label/ len(y_tr)))\n",
    "print(\"cross_validation data \"+str(cv_counts_label / len(y_cv)))\n",
    "print(\"Test data \"+str(test_counts_label/ len(y_test)))\n",
    "\n",
    "\n",
    "\n",
    "\n",
    "############### Scaling the data ############\n",
    "\"\"\"StandardScaler() will normalize the features (each column of data) \n",
    "so that each column/feature/variable will have mean = 0 and standard deviation = 1.\"\"\"\n",
    "\n",
    "scaler = StandardScaler().fit(X_tr)\n",
    "X_tr_std = scaler.transform(X_tr)\n",
    "X_cv_std = scaler.transform(X_cv)\n",
    "X_test_std = scaler.transform(X_test)\n",
    "\n",
    "\n",
    "# Standardizing the original test data\n",
    "ace_test_std = scaler.transform(ace_test_imp)"
   ]
  },
  {
   "cell_type": "markdown",
   "metadata": {},
   "source": [
    "## 1. Logistic Regression:"
   ]
  },
  {
   "cell_type": "markdown",
   "metadata": {},
   "source": [
    "### 1.1 Training the model and hyperparameter tuning:"
   ]
  },
  {
   "cell_type": "code",
   "execution_count": 57,
   "metadata": {},
   "outputs": [
    {
     "name": "stdout",
     "output_type": "stream",
     "text": [
      "For value of alpha =  1e-05 The cv recall is: 0.9320833333333334\n",
      "For value of alpha = 1e-05 custom matric value is: 10930\n",
      "\n",
      "\n",
      "For value of alpha =  0.0001 The cv recall is: 0.9661458333333334\n",
      "For value of alpha = 0.0001 custom matric value is: 13540\n",
      "\n",
      "\n",
      "For value of alpha =  0.001 The cv recall is: 0.9697916666666667\n",
      "For value of alpha = 0.001 custom matric value is: 10740\n",
      "\n",
      "\n",
      "For value of alpha =  0.01 The cv recall is: 0.9695833333333334\n",
      "For value of alpha = 0.01 custom matric value is: 10270\n",
      "\n",
      "\n",
      "For value of alpha =  0.1 The cv recall is: 0.9715625\n",
      "For value of alpha = 0.1 custom matric value is: 12040\n",
      "\n",
      "\n",
      "For value of alpha =  1 The cv recall is: 0.9630208333333333\n",
      "For value of alpha = 1 custom matric value is: 10900\n",
      "\n",
      "\n",
      "For value of alpha =  10 The cv recall is: 0.9169791666666667\n",
      "For value of alpha = 10 custom matric value is: 11890\n",
      "\n",
      "\n",
      "For value of alpha =  100 The cv recall is: 0.9092708333333334\n",
      "For value of alpha = 100 custom matric value is: 12630\n",
      "\n",
      "\n",
      "For value of alpha =  1000 The cv recall is: 0.9617708333333334\n",
      "For value of alpha = 1000 custom matric value is: 12490\n",
      "\n",
      "\n"
     ]
    }
   ],
   "source": [
    "# Training the model and hyperparameter tunning.\n",
    "alpha = [10 ** x for x in range(-5,4)]\n",
    "tr_recall_scores, cv_recall_scores, train_custom_scores, cv_custom_scores, num_false_negs = train_model(alpha, X_tr_std, y_tr,\n",
    "                                                                                                       X_cv_std,  y_cv, 'log')\n",
    "## Averaging the train custom scores\n",
    "train_custom_scores = np.array(train_custom_scores) / len(X_tr)\n",
    "## Averaging the cross_validation scores\n",
    "cv_custom_scores = np.array(cv_custom_scores) / len(X_cv)"
   ]
  },
  {
   "cell_type": "code",
   "execution_count": 58,
   "metadata": {},
   "outputs": [
    {
     "data": {
      "image/png": "[encoded data removed]",
      "text/plain": [
       "<Figure size 432x288 with 1 Axes>"
      ]
     },
     "metadata": {
      "needs_background": "light"
     },
     "output_type": "display_data"
    },
    {
     "name": "stdout",
     "output_type": "stream",
     "text": [
      "Best alpha using the less custom score 0.01\n",
      "Train recall with best_hyperparameter 0.9666145833333334\n",
      "cross validation recall with best_hyperparameter 0.9695833333333334\n",
      "Test recall with best_hyperparameter 0.96925\n",
      "******************** performance metrics ********************\n"
     ]
    },
    {
     "data": {
      "image/png": "[encoded data removed]",
      "text/plain": [
       "<Figure size 1440x288 with 4 Axes>"
      ]
     },
     "metadata": {
      "needs_background": "light"
     },
     "output_type": "display_data"
    },
    {
     "name": "stdout",
     "output_type": "stream",
     "text": [
      "Train custom_score is 33400\n",
      "Test custom_score is 11040\n"
     ]
    }
   ],
   "source": [
    "# ploting the custom_metric_values\n",
    "plot(alpha, train_custom_scores, cv_custom_scores, 'train_custom_per_pt', 'cv_custom_per_pt', 'custom_scores for train and cv')\n",
    "best_alpha = np.argmin(cv_custom_scores)\n",
    "print(\"Best alpha using the less custom score \"+str(alpha[best_alpha]))\n",
    "testing_model(alpha[best_alpha], 'log', X_tr_std, y_tr, X_cv_std, y_cv, X_test_std, y_test)"
   ]
  },
  {
   "cell_type": "code",
   "execution_count": 59,
   "metadata": {},
   "outputs": [
    {
     "data": {
      "image/png": "[encoded data removed]",
      "text/plain": [
       "<Figure size 432x288 with 1 Axes>"
      ]
     },
     "metadata": {
      "needs_background": "light"
     },
     "output_type": "display_data"
    },
    {
     "name": "stdout",
     "output_type": "stream",
     "text": [
      "Best alpha using the less custom score 10\n",
      "Train recall with best_hyperparameter 0.9138802083333334\n",
      "cross validation recall with best_hyperparameter 0.9169791666666667\n",
      "Test recall with best_hyperparameter 0.91675\n",
      "******************** performance metrics ********************\n"
     ]
    },
    {
     "data": {
      "image/png": "[encoded data removed]",
      "text/plain": [
       "<Figure size 1440x288 with 4 Axes>"
      ]
     },
     "metadata": {
      "needs_background": "light"
     },
     "output_type": "display_data"
    },
    {
     "name": "stdout",
     "output_type": "stream",
     "text": [
      "Train custom_score is 46300\n",
      "Test custom_score is 11950\n"
     ]
    }
   ],
   "source": [
    "#ploting the recall values\n",
    "plot(alpha, tr_recall_scores, cv_recall_scores, 'train_recall', 'cv_recall', 'Recall for train and test')\n",
    "best_alpha = np.argmax(cv_recall_scores)\n",
    "print(\"Best alpha using the less custom score \"+str(alpha[best_alpha]))\n",
    "testing_model(alpha[best_alpha], 'log', X_tr_std, y_tr, X_cv_std, y_cv, X_test_std, y_test)"
   ]
  },
  {
   "cell_type": "code",
   "execution_count": 60,
   "metadata": {},
   "outputs": [
    {
     "name": "stdout",
     "output_type": "stream",
     "text": [
      "custom_score for original test data is 17690\n"
     ]
    }
   ],
   "source": [
    "log_clf = SGDClassifier(alpha=0.01, loss='log', random_state=42, class_weight='balanced')\n",
    "log_clf.fit(X_tr_std, y_tr)\n",
    "ori_y_test_pred = log_clf.predict(ace_test_std)\n",
    "print(\"custom_score for original test data is \" +str(custom_metric(ori_test_y, ori_y_test_pred)))"
   ]
  },
  {
   "cell_type": "markdown",
   "metadata": {},
   "source": [
    "## 2. xgboost:"
   ]
  },
  {
   "cell_type": "code",
   "execution_count": 61,
   "metadata": {},
   "outputs": [],
   "source": [
    "# Imputation\n",
    "imp = Imputer(missing_values='NaN', strategy='median', axis=0).fit(X)\n",
    "train_x = imp.transform(X)\n",
    "test_x = imp.transform(ace_test)"
   ]
  },
  {
   "cell_type": "code",
   "execution_count": 62,
   "metadata": {},
   "outputs": [],
   "source": [
    "# Standardizing the data\n",
    "scaler = StandardScaler().fit(train_x)\n",
    "train_x_std = scaler.transform(train_x)\n",
    "test_x_std = scaler.transform(test_x)"
   ]
  },
  {
   "cell_type": "code",
   "execution_count": 63,
   "metadata": {},
   "outputs": [],
   "source": [
    "weights = np.zeros(len(y))\n",
    "weights[y == 0] = 1\n",
    "weights[y == 1] = 5\n",
    "dtrain = xgb.DMatrix(train_x_std, label=y, weight=weights)\n",
    "dtest  = xgb.DMatrix(test_x_std)"
   ]
  },
  {
   "cell_type": "code",
   "execution_count": 64,
   "metadata": {},
   "outputs": [
    {
     "name": "stdout",
     "output_type": "stream",
     "text": [
      "custom_score for original test data is 11630\n"
     ]
    }
   ],
   "source": [
    "bst = xgb.train(params, dtrain, num_rounds)\n",
    "y_test_preds = (bst.predict(dtest)>0.5).astype('int')\n",
    "print(\"custom_score for original test data is \" +str(custom_metric(ori_test_y, y_test_preds)))"
   ]
  },
  {
   "cell_type": "markdown",
   "metadata": {},
   "source": [
    "## LightGBM:"
   ]
  },
  {
   "cell_type": "code",
   "execution_count": 85,
   "metadata": {},
   "outputs": [],
   "source": [
    "import lightgbm as lgb"
   ]
  },
  {
   "cell_type": "code",
   "execution_count": 96,
   "metadata": {},
   "outputs": [],
   "source": [
    "param = {'num_leaves':10, 'num_trees':200, 'objective':'binary'}\n",
    "#param['metric'] = 'auc'"
   ]
  },
  {
   "cell_type": "code",
   "execution_count": 97,
   "metadata": {},
   "outputs": [],
   "source": [
    "weights = np.zeros(len(y))\n",
    "weights[y == 0] = 1\n",
    "weights[y == 1] = 5"
   ]
  },
  {
   "cell_type": "code",
   "execution_count": 98,
   "metadata": {},
   "outputs": [],
   "source": [
    "train_data = lgb.Dataset(train_x_std, label=y, weights)"
   ]
  },
  {
   "cell_type": "code",
   "execution_count": 99,
   "metadata": {},
   "outputs": [],
   "source": [
    "num_round = 10\n",
    "bst = lgb.train(param, train_data, num_round)"
   ]
  },
  {
   "cell_type": "code",
   "execution_count": 100,
   "metadata": {},
   "outputs": [],
   "source": [
    "# num_round = 10\n",
    "# lgb.cv(param, train_data, num_round, nfold=5)"
   ]
  },
  {
   "cell_type": "code",
   "execution_count": 101,
   "metadata": {},
   "outputs": [],
   "source": [
    "#ypred = bst.predict(test_x_std)\n",
    "y_test_preds = (bst.predict(test_x_std)>0.5).astype('int')"
   ]
  },
  {
   "cell_type": "code",
   "execution_count": 102,
   "metadata": {},
   "outputs": [
    {
     "name": "stdout",
     "output_type": "stream",
     "text": [
      "custom_score for original test data is 49940\n"
     ]
    }
   ],
   "source": [
    "print(\"custom_score for original test data is \" +str(custom_metric(ori_test_y, y_test_preds)))"
   ]
  },
  {
   "cell_type": "markdown",
   "metadata": {},
   "source": [
    "## Random Forest:"
   ]
  },
  {
   "cell_type": "code",
   "execution_count": null,
   "metadata": {},
   "outputs": [],
   "source": [
    "from sklearn.model_selection import RandomizedSearchCV\n",
    "# Number of trees in random forest\n",
    "n_estimators = [int(x) for x in np.linspace(start = 200, stop = 2000, num = 10)]\n",
    "# Number of features to consider at every split\n",
    "max_features = ['auto', 'sqrt']\n",
    "# Maximum number of levels in tree\n",
    "max_depth = [int(x) for x in np.linspace(10, 110, num = 11)]\n",
    "max_depth.append(None)\n",
    "# Minimum number of samples required to split a node\n",
    "min_samples_split = [2, 5, 10]\n",
    "# Minimum number of samples required at each leaf node\n",
    "min_samples_leaf = [1, 2, 4]\n",
    "# Method of selecting samples for training each tree\n",
    "bootstrap = [True, False]\n",
    "# Create the random grid\n",
    "random_grid = {'n_estimators': n_estimators,\n",
    "               'max_features': max_features,\n",
    "               'max_depth': max_depth,\n",
    "               'min_samples_split': min_samples_split,\n",
    "               'min_samples_leaf': min_samples_leaf,\n",
    "               'bootstrap': bootstrap}\n",
    "print(random_grid)"
   ]
  },
  {
   "cell_type": "code",
   "execution_count": null,
   "metadata": {},
   "outputs": [],
   "source": [
    "# Use the random grid to search for best hyperparameters\n",
    "# First create the base model to tune\n",
    "rf = RandomForestClassifier()\n",
    "\n",
    "rf_random = RandomizedSearchCV(estimator = rf, param_distributions = random_grid, n_iter = 100, cv = 3, \n",
    "                               verbose=2, random_state=42, n_jobs = -1)\n",
    "# Fit the random search model\n",
    "rf_random.fit(X_tr_std, y_tr)"
   ]
  },
  {
   "cell_type": "code",
   "execution_count": null,
   "metadata": {},
   "outputs": [],
   "source": [
    "# Finding the best hyperparameters using the randommizied random search\n",
    "rf_random.best_params_"
   ]
  },
  {
   "cell_type": "code",
   "execution_count": null,
   "metadata": {},
   "outputs": [],
   "source": [
    "################ Saving the model ##############################\n",
    "import pickle\n",
    "\n",
    "#\n",
    "# Create your model here (same as above)\n",
    "#\n",
    "\n",
    "# Save to file in the current working directory\n",
    "pkl_filename = \"pickle_model.pkl\"  \n",
    "with open(pkl_filename, 'wb') as file:  \n",
    "    pickle.dump(model, file)\n",
    "\n",
    "# Load from file\n",
    "with open(pkl_filename, 'rb') as file:  \n",
    "    pickle_model = pickle.load(file)\n",
    "\n",
    "# Calculate the accuracy score and predict target values\n",
    "score = pickle_model.score(Xtest, Ytest)  \n",
    "print(\"Test score: {0:.2f} %\".format(100 * score))  \n",
    "Ypredict = pickle_model.predict(Xtest) "
   ]
  },
  {
   "cell_type": "code",
   "execution_count": null,
   "metadata": {},
   "outputs": [],
   "source": [
    "# predicting the response_labels for an test data\n",
    "y_preds = rf_random.best_params_.predict(X_test_std)\n",
    "custom_metric(y_test, y_preds)"
   ]
  },
  {
   "cell_type": "code",
   "execution_count": null,
   "metadata": {},
   "outputs": [],
   "source": [
    "num_trees = [100, 200, 500, 1000, 2000]\n",
    "max_depth = [5, 10]\n",
    "custom_scores = []\n",
    "recall_scores = []\n",
    "for trees in num_trees:\n",
    "    for depth in max_depth:\n",
    "        print(\"For n_estimators=\", trees,  \"and max_depth=\", depth)\n",
    "        clf = RandomForestClassifier(n_estimators=trees, criterion='gini',  max_depth=depth, random_state=42, n_jobs=3)\n",
    "        clf.fit(X_tr_std, y_tr)\n",
    "        y_pred = clf.predict(X_cv_std)\n",
    "        \n",
    "        print('For n_estimators = ', trees,'and for max_depth = ', depth, \"The recall is:\",recall_score(y_cv, y_pred))\n",
    "        recall_scores.append(recall_score(y_cv, y_pred))\n",
    "        print('For n_estimators = ', trees,'and for max_depth = ', depth, \"custom matric value is:\",custom_metric(y_cv, y_pred))\n",
    "        custom_scores.append(custom_metric(y_cv, y_pred))\n",
    "        print(\"\\n\")\n"
   ]
  },
  {
   "cell_type": "code",
   "execution_count": null,
   "metadata": {},
   "outputs": [],
   "source": [
    "#Training the model using the best hyperparameter\n",
    "best_params = np.argmin(custom_scores)\n",
    "clf = RandomForestClassifier(n_estimators=num_trees[int(best_params/2)], criterion='gini',  max_depth=max_depth[int(best_params%2)], random_state=42, n_jobs=3)\n",
    "clf.fit(X_tr_std, y_tr)\n",
    "# training recall\n",
    "pred_y = clf.predict(X_tr_std)\n",
    "print(\"Train recall with best_hyperparameter \"+str(recall_score(y_tr, pred_y)))\n",
    "\n",
    "# cv recall \n",
    "pred_y = clf.predict(X_cv_std)\n",
    "print(\"cross validation recall with best_hyperparameter \"+str(recall_score(y_cv, pred_y)))\n",
    "\n",
    "# Test recall \n",
    "pred_y = clf.predict(X_test_std)\n",
    "print(\"Test recall with best_hyperparameter \"+str(recall_score(y_test, pred_y)))\n",
    "print('roc_value: ', roc_auc_score(y_test, pred_y))\n",
    "# Calling function for calculating the metrics\n",
    "print(\"*\"*20, \"performance metrics\", \"*\"*20)\n",
    "test_metrics(y_test, pred_y)\n",
    "print(\"Test custom_score is \"+str(custom_metric(y_test, pred_y)))"
   ]
  },
  {
   "cell_type": "markdown",
   "metadata": {},
   "source": [
    "## xgboost:"
   ]
  },
  {
   "cell_type": "code",
   "execution_count": 52,
   "metadata": {},
   "outputs": [
    {
     "name": "stdout",
     "output_type": "stream",
     "text": [
      "28120\n"
     ]
    },
    {
     "data": {
      "text/plain": [
       "array([[11782,    12],\n",
       "       [   56,   150]], dtype=int64)"
      ]
     },
     "execution_count": 52,
     "metadata": {},
     "output_type": "execute_result"
    }
   ],
   "source": [
    "########### Using the basic_model ##################\n",
    "clf = xgb.XGBClassifier()\n",
    "clf = clf.fit(X_tr_std, y_tr)\n",
    "print(custom_metric(y_test, clf.predict(X_test_std)))\n",
    "confusion_matrix(y_test, clf.predict(X_test_std))"
   ]
  },
  {
   "cell_type": "code",
   "execution_count": 53,
   "metadata": {},
   "outputs": [
    {
     "name": "stdout",
     "output_type": "stream",
     "text": [
      "custom_score for original test data is 61190\n"
     ]
    }
   ],
   "source": [
    "ace_y_test = clf.predict(ace_test_std)\n",
    "print(\"custom_score for original test data is \" +str(custom_metric(ori_y, ace_y_test)))"
   ]
  },
  {
   "cell_type": "code",
   "execution_count": 74,
   "metadata": {},
   "outputs": [],
   "source": [
    "from xgboost import XGBClassifier\n",
    "from sklearn.model_selection import RandomizedSearchCV, GridSearchCV\n",
    "from scipy.stats import randint, uniform\n",
    "from sklearn.cross_validation import StratifiedKFold"
   ]
  },
  {
   "cell_type": "code",
   "execution_count": 75,
   "metadata": {},
   "outputs": [],
   "source": [
    "cv = StratifiedKFold(y_tr, n_folds=10, shuffle=True)"
   ]
  },
  {
   "cell_type": "code",
   "execution_count": 76,
   "metadata": {},
   "outputs": [],
   "source": [
    "# ############# Tuning the model using the random search cv ##########\n",
    "# # A parameter grid for XGBoost\n",
    "# params = {\n",
    "#          'learning_rate':[0.001, 0.01, 0.1, 0.5],\n",
    "#          'n_estimators': [50, 75, 100, 200, 250, 300],\n",
    "#         'min_child_weight': [1, 5, 10],\n",
    "#         'gamma': [0, 0.5, 1, 1.5, 2, 5],\n",
    "#         'subsample': [0.6, 0.8, 1.0],\n",
    "#         'colsample_bytree': [0.6, 0.8, 1.0],\n",
    "#         'max_depth': [3, 4, 5]\n",
    "#         }"
   ]
  },
  {
   "cell_type": "code",
   "execution_count": 78,
   "metadata": {},
   "outputs": [],
   "source": [
    "params = {\n",
    "         'learning_rate':uniform(),\n",
    "         'n_estimators': randint(1, 1001),\n",
    "        'min_child_weight': [1, 5, 10],\n",
    "        'gamma': [0, 0.5, 1],\n",
    "        'subsample': uniform(),\n",
    "        'colsample_bytree': uniform(),\n",
    "        'max_depth': [1, 2, 3, 4]\n",
    "}"
   ]
  },
  {
   "cell_type": "code",
   "execution_count": 79,
   "metadata": {},
   "outputs": [],
   "source": [
    "xgb = XGBClassifier( objective='binary:logistic',\n",
    "                    silent=1)"
   ]
  },
  {
   "cell_type": "code",
   "execution_count": 70,
   "metadata": {},
   "outputs": [],
   "source": [
    "# from sklearn.metrics import make_scorer\n",
    "#  scoring = {'accuracy': make_scorer(accuracy_score)"
   ]
  },
  {
   "cell_type": "code",
   "execution_count": 80,
   "metadata": {},
   "outputs": [
    {
     "name": "stdout",
     "output_type": "stream",
     "text": [
      "Fitting 10 folds for each of 10 candidates, totalling 100 fits\n"
     ]
    },
    {
     "name": "stderr",
     "output_type": "stream",
     "text": [
      "[Parallel(n_jobs=4)]: Done  24 tasks      | elapsed: 32.7min\n",
      "[Parallel(n_jobs=4)]: Done 100 out of 100 | elapsed: 123.3min finished\n"
     ]
    },
    {
     "data": {
      "text/plain": [
       "RandomizedSearchCV(cv=sklearn.cross_validation.StratifiedKFold(labels=[0 0 ... 0 0], n_folds=10, shuffle=True, random_state=None),\n",
       "          error_score='raise',\n",
       "          estimator=XGBClassifier(base_score=0.5, booster='gbtree', colsample_bylevel=1,\n",
       "       colsample_bytree=1, gamma=0, learning_rate=0.1, max_delta_step=0,\n",
       "       max_depth=3, min_child_weight=1, missing=None, n_estimators=100,\n",
       "       n_jobs=1, nthread=None, objective='binary:logistic', random_state=0,\n",
       "       reg_alpha=0, reg_lambda=1, scale_pos_weight=1, seed=None, silent=1,\n",
       "       subsample=1),\n",
       "          fit_params=None, iid=True, n_iter=10, n_jobs=4,\n",
       "          param_distributions={'learning_rate': <scipy.stats._distn_infrastructure.rv_frozen object at 0x000000000D12DA20>, 'n_estimators': <scipy.stats._distn_infrastructure.rv_frozen object at 0x000000000D12D2B0>, 'min_child_weight': [1, 5, 10], 'gamma': [0, 0.5, 1], 'subsample': <scipy.stats._distn_infrastructure.rv_frozen object at 0x000000000D12D6A0>, 'colsample_bytree': <scipy.stats._distn_infrastructure.rv_frozen object at 0x000000000D12DDA0>, 'max_depth': [1, 2, 3, 4]},\n",
       "          pre_dispatch='2*n_jobs', random_state=1001, refit=True,\n",
       "          return_train_score='warn', scoring='recall', verbose=3)"
      ]
     },
     "execution_count": 80,
     "metadata": {},
     "output_type": "execute_result"
    }
   ],
   "source": [
    "random_search = RandomizedSearchCV(xgb, param_distributions=params, n_iter=10, scoring='recall', \n",
    "                                   n_jobs=4, cv=cv, verbose=3, random_state=1001 )\n",
    "random_search.fit(X_tr_std, y_tr)"
   ]
  },
  {
   "cell_type": "code",
   "execution_count": 81,
   "metadata": {},
   "outputs": [
    {
     "data": {
      "text/plain": [
       "{'colsample_bytree': 0.5084839764321635,\n",
       " 'gamma': 0,\n",
       " 'learning_rate': 0.48817443749109535,\n",
       " 'max_depth': 2,\n",
       " 'min_child_weight': 1,\n",
       " 'n_estimators': 467,\n",
       " 'subsample': 0.8995780528415487}"
      ]
     },
     "execution_count": 81,
     "metadata": {},
     "output_type": "execute_result"
    }
   ],
   "source": [
    "random_search.best_params_"
   ]
  },
  {
   "cell_type": "code",
   "execution_count": 82,
   "metadata": {},
   "outputs": [
    {
     "data": {
      "text/plain": [
       "(21690, array([[11775,    19],\n",
       "        [   43,   163]], dtype=int64))"
      ]
     },
     "execution_count": 82,
     "metadata": {},
     "output_type": "execute_result"
    }
   ],
   "source": [
    "# predicting the response_labels for an test data\n",
    "y_preds = random_search.best_estimator_.predict(X_test_std)\n",
    "custom_metric(y_test, y_preds), confusion_matrix(y_test, y_preds)"
   ]
  },
  {
   "cell_type": "code",
   "execution_count": null,
   "metadata": {},
   "outputs": [],
   "source": [
    "import xgboost as xgb"
   ]
  },
  {
   "cell_type": "code",
   "execution_count": null,
   "metadata": {},
   "outputs": [],
   "source": [
    "weights = np.zeros(len(y_tr))\n",
    "weights[y_tr == 0] = 1\n",
    "weights[y_tr == 1] = 5\n",
    "dtrain = xgb.DMatrix(X_tr_std, label=y_tr, weight=weights)\n",
    "dtest  = xgb.DMatrix(ace_test_std)"
   ]
  },
  {
   "cell_type": "code",
   "execution_count": null,
   "metadata": {},
   "outputs": [],
   "source": [
    "params = {'objective':'binary:logistic',\n",
    "         'max_depth':1,\n",
    "         'silent':1,\n",
    "         'eta':1}\n",
    "num_rounds = 100"
   ]
  },
  {
   "cell_type": "code",
   "execution_count": null,
   "metadata": {},
   "outputs": [],
   "source": [
    "ratio = float(np.sum(y_tr==0)) / np.sum(y_tr==1)\n",
    "params['scale_pos_weight'] = ratio"
   ]
  },
  {
   "cell_type": "code",
   "execution_count": null,
   "metadata": {},
   "outputs": [],
   "source": [
    "bst = xgb.train(params, dtrain, num_rounds)\n",
    "y_test_preds = (bst.predict(dtest)>0.5).astype('int')\n",
    "custom_metric(ori_y, y_test_preds), confusion_matrix(ori_y, y_test_preds)"
   ]
  },
  {
   "cell_type": "code",
   "execution_count": null,
   "metadata": {},
   "outputs": [],
   "source": []
  },
  {
   "cell_type": "code",
   "execution_count": null,
   "metadata": {},
   "outputs": [],
   "source": []
  },
  {
   "cell_type": "code",
   "execution_count": null,
   "metadata": {},
   "outputs": [],
   "source": [
    "depths = [3, 6, 9, 12, 15, 30]\n",
    "recall_scores = []\n",
    "custom_scores = []\n",
    "for max_depth in depths:\n",
    "    clf = xgb.XGBClassifier(max_depth=max_depth)\n",
    "    clf = clf.fit(X_tr_std, y_tr)\n",
    "    y_pred = clf.predict(X_cv_std)\n",
    "    print('For n_estimators = 100 and for max_depth = ', max_depth, \"The recall is:\",recall_score(y_cv, y_pred))\n",
    "    recall_scores.append(recall_score(y_cv, y_pred))\n",
    "    print('For n_estimators = 100 and for max_depth = ', max_depth, \"custom matric value is:\",custom_metric(y_cv, y_pred))\n",
    "    custom_scores.append(custom_metric(y_cv, y_pred))\n",
    "    print(\"\\n\")"
   ]
  },
  {
   "cell_type": "code",
   "execution_count": null,
   "metadata": {},
   "outputs": [],
   "source": [
    "#Training the model with the best hyperparameter\n",
    "best_params = np.argmin(custom_scores)\n",
    "clf = xgb.XGBClassifier(max_depth=depths[best_params])\n",
    "clf = clf.fit(X_tr_std, y_tr)\n",
    "# training recall\n",
    "pred_y = clf.predict(X_tr_std)\n",
    "print(\"Train recall with best_hyperparameter \"+str(recall_score(y_tr, pred_y)))\n",
    "\n",
    "# cv recall \n",
    "pred_y = clf.predict(X_cv_std)\n",
    "print(\"cross validation recall with best_hyperparameter \"+str(recall_score(y_cv, pred_y)))\n",
    "\n",
    "# Test recall \n",
    "pred_y = clf.predict(X_test_std)\n",
    "print(\"Test recall with best_hyperparameter \"+str(recall_score(y_test, pred_y)))\n",
    "print('roc_value: ', roc_auc_score(y_test, pred_y))\n",
    "# Calling function for calculating the metrics\n",
    "print(\"*\"*20, \"performance metrics\", \"*\"*20)\n",
    "test_metrics(y_test, pred_y)\n",
    "print(\"Test custom_score is \"+str(custom_metric(y_test, pred_y)))"
   ]
  },
  {
   "cell_type": "markdown",
   "metadata": {},
   "source": [
    "## ROC_AUC plot for all the classifiers:"
   ]
  },
  {
   "cell_type": "code",
   "execution_count": null,
   "metadata": {},
   "outputs": [],
   "source": [
    "# Logistic regression\n",
    "log_clf = SGDClassifier(alpha=0.001, loss='log', random_state=42, class_weight='balanced')\n",
    "log_clf.fit(X_tr_std, y_tr)\n",
    "log_pred = log_clf.predict(X_tr_std)\n",
    "\n",
    "# Linear_svm\n",
    "svc_clf = SGDClassifier(alpha=0.001, loss='hinge', random_state=42, class_weight='balanced')\n",
    "svc_clf.fit(X_tr_std, y_tr)\n",
    "svc_pred = svc_clf.predict(X_tr_std)\n",
    "\n",
    "# Random Forest\n",
    "rf_clf =  RandomForestClassifier(n_estimators=200, criterion='gini',  max_depth=10, random_state=42, n_jobs=3)\n",
    "rf_clf.fit(X_tr_std, y_tr)\n",
    "rf_pred = rf_clf.predict(X_tr_std)\n",
    "\n",
    "# xg_boost\n",
    "xg_clf = xgb.XGBClassifier(max_depth=30)\n",
    "xg_clf.fit(X_tr_std, y_tr)\n",
    "xg_pred = xg_clf.predict(X_tr_std)\n"
   ]
  },
  {
   "cell_type": "code",
   "execution_count": null,
   "metadata": {},
   "outputs": [],
   "source": [
    "############### Roc plot for all the classifiers #######################################\n",
    "log_fpr, log_tpr, log_thresold = roc_curve(y_tr, log_pred)\n",
    "svc_fpr, svc_tpr, svc_threshold = roc_curve(y_tr, svc_pred)\n",
    "rf_fpr, rf_tpr, rf_threshold = roc_curve(y_tr, rf_pred)\n",
    "xg_fpr, xg_tpr, xg_threshold = roc_curve(y_tr, xg_pred)\n",
    "\n",
    "def graph_roc_curve_multiple(log_fpr, log_tpr, svc_fpr, svc_tpr, rf_fpr, rf_tpr, xg_fpr, xg_tpr):\n",
    "    plt.figure(figsize=(16,8))\n",
    "    plt.title('ROC Curve \\n Top 4 Classifiers', fontsize=18)\n",
    "    plt.plot(log_fpr, log_tpr, label='Logistic Regression Classifier Score: {:.4f}'.format(roc_auc_score(y_tr, log_pred)))\n",
    "    plt.plot(svc_fpr, svc_tpr, label='Support Vector Classifier Score: {:.4f}'.format(roc_auc_score(y_tr, svc_pred)))\n",
    "    plt.plot(rf_fpr, rf_tpr, label='Random Forest Classifier Score: {:.4f}'.format(roc_auc_score(y_tr, rf_pred)))\n",
    "    plt.plot(xg_fpr, xg_tpr, label='xg_boost Classifier Score: {:.4f}'.format(roc_auc_score(y_tr, xg_pred)))\n",
    "    plt.plot([0, 1], [0, 1], 'k--')\n",
    "    plt.axis([-0.01, 1, 0, 1])\n",
    "    plt.xlabel('False Positive Rate', fontsize=16)\n",
    "    plt.ylabel('True Positive Rate', fontsize=16)\n",
    "    plt.annotate('Minimum ROC Score of 50% \\n (This is the minimum score to get)', xy=(0.5, 0.5), xytext=(0.6, 0.3),\n",
    "                arrowprops=dict(facecolor='#6E726D', shrink=0.05),\n",
    "                )\n",
    "    plt.legend()\n",
    "    \n",
    "graph_roc_curve_multiple(log_fpr, log_tpr, svc_fpr, svc_tpr, rf_fpr, rf_tpr, xg_fpr, xg_tpr)\n",
    "plt.show()"
   ]
  },
  {
   "cell_type": "markdown",
   "metadata": {},
   "source": [
    "## Stacking Classifier:"
   ]
  },
  {
   "cell_type": "code",
   "execution_count": null,
   "metadata": {},
   "outputs": [],
   "source": [
    "# Training the model with different hyperparameter\n",
    "alpha_values = [0.0001,0.001,0.01,0.1,1,10]\n",
    "recall_scores = []\n",
    "custom_scores = []\n",
    "for i in alpha_values:\n",
    "    lr = LogisticRegression(C=i)\n",
    "    sclf = StackingClassifier(classifiers=[log_clf, svc_clf, rf_clf, xg_clf], meta_classifier=lr)\n",
    "    sclf.fit(X_tr_std, y_tr)\n",
    "    y_pred = sclf.predict(X_cv_std)\n",
    "    print('For meta_classifier of hyperparameter ', i, \"The recall is:\",recall_score(y_cv, y_pred))\n",
    "    recall_scores.append(recall_score(y_cv, y_pred))\n",
    "    print('For meta_classifier of hyperparameter ', i, \"custom matric value is:\",custom_metric(y_cv, y_pred))\n",
    "    custom_scores.append(custom_metric(y_cv, y_pred))\n",
    "    print(\"\\n\")"
   ]
  },
  {
   "cell_type": "code",
   "execution_count": null,
   "metadata": {},
   "outputs": [],
   "source": [
    "# Training and testing the model using the best hyperparameter\n",
    "lr = LogisticRegression(C=i)\n",
    "sclf = StackingClassifier(classifiers=[log_clf, svc_clf, rf_clf, xg_clf], meta_classifier=lr)\n",
    "sclf.fit(X_tr_std, y_tr)\n",
    "\n",
    "# training recall\n",
    "pred_y = sclf.predict(X_tr_std)\n",
    "print(\"Train recall with best_hyperparameter \"+str(recall_score(y_tr, pred_y)))\n",
    "\n",
    "# cv recall \n",
    "pred_y = sclf.predict(X_cv_std)\n",
    "print(\"cross validation recall with best_hyperparameter \"+str(recall_score(y_cv, pred_y)))\n",
    "\n",
    "# Test recall \n",
    "pred_y = sclf.predict(X_test_std)\n",
    "print(\"Test recall with best_hyperparameter \"+str(recall_score(y_test, pred_y)))\n",
    "print('roc_value: ', roc_auc_score(y_test, pred_y))\n",
    "# Calling function for calculating the metrics\n",
    "print(\"*\"*20, \"performance metrics\", \"*\"*20)\n",
    "test_metrics(y_test, pred_y)\n",
    "print(\"Test custom_score is \"+str(custom_metric(y_test, pred_y)))"
   ]
  },
  {
   "cell_type": "markdown",
   "metadata": {},
   "source": [
    "### custom_scores for different classifiers without balanceing the data:"
   ]
  },
  {
   "cell_type": "code",
   "execution_count": null,
   "metadata": {},
   "outputs": [],
   "source": [
    "############ custom metrics for different classifiers ###############\n",
    "print(\"custum_score for Logistic regression \"+str(custom_metric(y_test, log_clf.predict(X_test_std))))\n",
    "print(\"custom_score for Linear_svm \"+str(custom_metric(y_test, svc_clf.predict(X_test_std))))\n",
    "print(\"custom_score for Random Forest \"+str(custom_metric(y_test, rf_clf.predict(X_test_std))))\n",
    "print(\"custom_score for xg_boost \"+str(custom_metric(y_test, xg_clf.predict(X_test_std))))\n",
    "print(\"custom_score for stacking classifier \"+str(custom_metric(y_test, sclf.predict(X_test_std))))"
   ]
  },
  {
   "cell_type": "markdown",
   "metadata": {},
   "source": [
    "## Balancing the using the undersampling and oversampling the data:"
   ]
  },
  {
   "cell_type": "markdown",
   "metadata": {},
   "source": [
    "### 1. Undersampling: \n",
    "\n",
    "- Undersampling means majority samples should be equal to the minority samples."
   ]
  },
  {
   "cell_type": "code",
   "execution_count": null,
   "metadata": {},
   "outputs": [],
   "source": [
    "train_data_x = X_tr_std\n",
    "train_data_y = y_tr\n",
    "train_data = np.append(train_data_x, train_data_y.reshape((train_data_y.shape[0], 1)), axis=1)\n",
    "train_data.shape"
   ]
  },
  {
   "cell_type": "code",
   "execution_count": null,
   "metadata": {},
   "outputs": [],
   "source": [
    "# converting to an pandas dataframe\n",
    "train_data = pd.DataFrame(train_data) \n",
    "train_data.head()"
   ]
  },
  {
   "cell_type": "code",
   "execution_count": null,
   "metadata": {},
   "outputs": [],
   "source": [
    "# Renaming the class_label column from 170 to class\n",
    "train_data = train_data.rename(columns={170: 'class'})\n",
    "train_data.head()"
   ]
  },
  {
   "cell_type": "code",
   "execution_count": null,
   "metadata": {},
   "outputs": [],
   "source": [
    "\"\"\"Our dataset is imbalanced by that we may get overfitting problem, to avoid that problem we can do random undersampling which \n",
    "   means making mojority class labels is equal to minority class. \n",
    "   - By doing the undersampling there is a problem which means loss of information. \"\"\"\n",
    "\n",
    "# Note: 170 column name is class_label\n",
    "\n",
    "train_data = train_data.sample(frac=1)\n",
    "\n",
    "pos_class = train_data.loc[train_data['class'] == 1]\n",
    "neg_class = train_data.loc[train_data['class'] == 0][:train_data['class'].value_counts()[1]]\n",
    "\n",
    "# Concatinating the positive and negative class\n",
    "under_train_data = pd.concat([pos_class, neg_class])\n",
    "\n",
    "# Shuffling the dataframe rows\n",
    "under_train_data = under_train_data.sample(frac=1, random_state=42)\n",
    "\n",
    "under_train_data.head()"
   ]
  },
  {
   "cell_type": "code",
   "execution_count": null,
   "metadata": {},
   "outputs": [],
   "source": [
    "###################### Equally distributing ################################\n",
    "\n",
    "print('Distribution of the Classes ')\n",
    "print(under_train_data['class'].value_counts()/len(under_train_data))\n",
    "\n",
    "sns.countplot('class', data=under_train_data)\n",
    "plt.title('Equally Distributed Classes', fontsize=14)\n",
    "plt.show()"
   ]
  },
  {
   "cell_type": "code",
   "execution_count": null,
   "metadata": {},
   "outputs": [],
   "source": [
    "# Undersampling data of train dependent and independent variables\n",
    "un_train_x = under_train_data.drop('class', axis=1)\n",
    "un_train_y = under_train_data['class']"
   ]
  },
  {
   "cell_type": "markdown",
   "metadata": {},
   "source": [
    "### Logistic regression:"
   ]
  },
  {
   "cell_type": "code",
   "execution_count": null,
   "metadata": {},
   "outputs": [],
   "source": [
    "# Training the model \n",
    "alpha = [10 ** x for x in range(-5,1)]\n",
    "tr_recall_scores, cv_recall_scores, log_custom_scores = train_model(alpha, un_train_x, un_train_y, X_cv_std, y_cv, 'log')\n",
    "#ploting the recall and custom_metric_values\n",
    "recall_plot(alpha, tr_recall_scores, cv_recall_scores)\n",
    "#Finding the best hyperparameter\n",
    "best_alpha = np.argmin(log_custom_scores)\n",
    "print(\"best_alpha \"+str(alpha[best_alpha]))\n",
    "#Testing the model with the best hyperparameter\n",
    "testing_model(best_alpha, 'log', un_train_x, un_train_y, X_cv_std, y_cv, X_test_std, y_test)"
   ]
  },
  {
   "cell_type": "markdown",
   "metadata": {},
   "source": [
    "## Linear svm:"
   ]
  },
  {
   "cell_type": "code",
   "execution_count": null,
   "metadata": {},
   "outputs": [],
   "source": [
    "# Training the model \n",
    "alpha = [10 ** x for x in range(-5,1)]\n",
    "tr_recall_scores, cv_recall_scores, log_custom_scores = train_model(alpha, un_train_x, un_train_y, X_cv_std, y_cv, 'hinge')\n",
    "#ploting the recall and custom_metric_values\n",
    "recall_plot(alpha, tr_recall_scores, cv_recall_scores)\n",
    "#Finding the best hyperparameter\n",
    "best_alpha = np.argmin(log_custom_scores)\n",
    "print(\"best_alpha \"+str(alpha[best_alpha]))\n",
    "#Testing the model with the best hyperparameter\n",
    "testing_model(best_alpha, 'hinge', un_train_x, un_train_y, X_cv_std, y_cv, X_test_std, y_test)"
   ]
  },
  {
   "cell_type": "markdown",
   "metadata": {},
   "source": [
    "## 2. Upsampling the data:"
   ]
  },
  {
   "cell_type": "code",
   "execution_count": null,
   "metadata": {},
   "outputs": [],
   "source": [
    "sm = SMOTE(random_state=2)\n",
    "up_train_x, up_train_y = sm.fit_sample(X_tr_std, y_tr.ravel())"
   ]
  },
  {
   "cell_type": "code",
   "execution_count": null,
   "metadata": {},
   "outputs": [],
   "source": [
    "# Training the model \n",
    "alpha = [10 ** x for x in range(-5,1)]\n",
    "tr_recall_scores, cv_recall_scores, log_custom_scores = train_model(alpha, up_train_x, up_train_y, X_cv_std, y_cv, 'log')\n",
    "#ploting the recall and custom_metric_values\n",
    "recall_plot(alpha, tr_recall_scores, cv_recall_scores)\n",
    "#Finding the best hyperparameter\n",
    "best_alpha = np.argmin(log_custom_scores)\n",
    "print(\"best_alpha \"+str(alpha[best_alpha]))\n",
    "#Testing the model with the best hyperparameter\n",
    "testing_model(best_alpha, 'log', up_train_x, up_train_y, X_cv_std, y_cv, X_test_std, y_test)"
   ]
  }
 ],
 "metadata": {
  "kernelspec": {
   "display_name": "Python 3",
   "language": "python",
   "name": "python3"
  },
  "language_info": {
   "codemirror_mode": {
    "name": "ipython",
    "version": 3
   },
   "file_extension": ".py",
   "mimetype": "text/x-python",
   "name": "python",
   "nbconvert_exporter": "python",
   "pygments_lexer": "ipython3",
   "version": "3.6.7"
  }
 },
 "nbformat": 4,
 "nbformat_minor": 2
}
